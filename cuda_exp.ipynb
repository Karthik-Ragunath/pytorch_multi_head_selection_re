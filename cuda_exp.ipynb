{
 "cells": [
  {
   "cell_type": "code",
   "execution_count": 1,
   "id": "71ca3b64-85cc-4a86-b1c5-4ca9d25115f4",
   "metadata": {},
   "outputs": [],
   "source": [
    "import torch"
   ]
  },
  {
   "cell_type": "code",
   "execution_count": 2,
   "id": "fc8067f5-8e16-412c-a2de-1f7a92ebcf81",
   "metadata": {},
   "outputs": [
    {
     "data": {
      "text/plain": [
       "'11.3'"
      ]
     },
     "execution_count": 2,
     "metadata": {},
     "output_type": "execute_result"
    }
   ],
   "source": [
    "torch.version.cuda"
   ]
  },
  {
   "cell_type": "code",
   "execution_count": 3,
   "id": "718d8eab-2c49-490f-ae32-f7ac8bdc2e6d",
   "metadata": {},
   "outputs": [
    {
     "data": {
      "text/plain": [
       "<module 'torch.version' from '/home/karthikragunath/anaconda3/envs/multi_head_re/lib/python3.8/site-packages/torch/version.py'>"
      ]
     },
     "execution_count": 3,
     "metadata": {},
     "output_type": "execute_result"
    }
   ],
   "source": [
    "torch.version"
   ]
  },
  {
   "cell_type": "code",
   "execution_count": 4,
   "id": "785b3972-cea5-416b-95fc-14966e226bdc",
   "metadata": {},
   "outputs": [
    {
     "name": "stdout",
     "output_type": "stream",
     "text": [
      "1.10.1\n"
     ]
    }
   ],
   "source": [
    "print(torch.__version__)"
   ]
  },
  {
   "cell_type": "code",
   "execution_count": 2,
   "id": "56fe0d6e-e9ef-494e-8b2e-25b0e351e420",
   "metadata": {},
   "outputs": [],
   "source": [
    "from pytorch_transformers import *"
   ]
  },
  {
   "cell_type": "code",
   "execution_count": 6,
   "id": "ac6abf9e-8612-4281-8c35-3aaf8ac6650e",
   "metadata": {},
   "outputs": [],
   "source": [
    "encoder = BertModel.from_pretrained('bert-base-uncased')"
   ]
  },
  {
   "cell_type": "code",
   "execution_count": 7,
   "id": "f24df7c2-f663-498d-9e69-f25584c4a454",
   "metadata": {},
   "outputs": [
    {
     "data": {
      "text/plain": [
       "<generator object Module.named_parameters at 0x7f978dd6bba0>"
      ]
     },
     "execution_count": 7,
     "metadata": {},
     "output_type": "execute_result"
    }
   ],
   "source": [
    "encoder.named_parameters()"
   ]
  },
  {
   "cell_type": "code",
   "execution_count": 11,
   "id": "f026d00a-8d32-4f65-9e64-a7d5c619f3e5",
   "metadata": {},
   "outputs": [],
   "source": [
    "req_grad_list = []\n",
    "req_no_grad_list = []\n",
    "for name, param in encoder.named_parameters():\n",
    "    if '11' in name:\n",
    "        req_grad_list.append((name, param.shape))\n",
    "    else:\n",
    "        req_no_grad_list.append((name, param.shape))"
   ]
  },
  {
   "cell_type": "code",
   "execution_count": 12,
   "id": "770a5edc-0a0f-4731-be3f-ac91990bb047",
   "metadata": {},
   "outputs": [
    {
     "data": {
      "text/plain": [
       "[('encoder.layer.11.attention.self.query.weight', torch.Size([768, 768])),\n",
       " ('encoder.layer.11.attention.self.query.bias', torch.Size([768])),\n",
       " ('encoder.layer.11.attention.self.key.weight', torch.Size([768, 768])),\n",
       " ('encoder.layer.11.attention.self.key.bias', torch.Size([768])),\n",
       " ('encoder.layer.11.attention.self.value.weight', torch.Size([768, 768])),\n",
       " ('encoder.layer.11.attention.self.value.bias', torch.Size([768])),\n",
       " ('encoder.layer.11.attention.output.dense.weight', torch.Size([768, 768])),\n",
       " ('encoder.layer.11.attention.output.dense.bias', torch.Size([768])),\n",
       " ('encoder.layer.11.attention.output.LayerNorm.weight', torch.Size([768])),\n",
       " ('encoder.layer.11.attention.output.LayerNorm.bias', torch.Size([768])),\n",
       " ('encoder.layer.11.intermediate.dense.weight', torch.Size([3072, 768])),\n",
       " ('encoder.layer.11.intermediate.dense.bias', torch.Size([3072])),\n",
       " ('encoder.layer.11.output.dense.weight', torch.Size([768, 3072])),\n",
       " ('encoder.layer.11.output.dense.bias', torch.Size([768])),\n",
       " ('encoder.layer.11.output.LayerNorm.weight', torch.Size([768])),\n",
       " ('encoder.layer.11.output.LayerNorm.bias', torch.Size([768]))]"
      ]
     },
     "execution_count": 12,
     "metadata": {},
     "output_type": "execute_result"
    }
   ],
   "source": [
    "req_grad_list"
   ]
  },
  {
   "cell_type": "code",
   "execution_count": 13,
   "id": "09eba142-f4d8-43f0-811b-435c4fd7ff30",
   "metadata": {},
   "outputs": [
    {
     "data": {
      "text/plain": [
       "[('embeddings.word_embeddings.weight', torch.Size([30522, 768])),\n",
       " ('embeddings.position_embeddings.weight', torch.Size([512, 768])),\n",
       " ('embeddings.token_type_embeddings.weight', torch.Size([2, 768])),\n",
       " ('embeddings.LayerNorm.weight', torch.Size([768])),\n",
       " ('embeddings.LayerNorm.bias', torch.Size([768])),\n",
       " ('encoder.layer.0.attention.self.query.weight', torch.Size([768, 768])),\n",
       " ('encoder.layer.0.attention.self.query.bias', torch.Size([768])),\n",
       " ('encoder.layer.0.attention.self.key.weight', torch.Size([768, 768])),\n",
       " ('encoder.layer.0.attention.self.key.bias', torch.Size([768])),\n",
       " ('encoder.layer.0.attention.self.value.weight', torch.Size([768, 768])),\n",
       " ('encoder.layer.0.attention.self.value.bias', torch.Size([768])),\n",
       " ('encoder.layer.0.attention.output.dense.weight', torch.Size([768, 768])),\n",
       " ('encoder.layer.0.attention.output.dense.bias', torch.Size([768])),\n",
       " ('encoder.layer.0.attention.output.LayerNorm.weight', torch.Size([768])),\n",
       " ('encoder.layer.0.attention.output.LayerNorm.bias', torch.Size([768])),\n",
       " ('encoder.layer.0.intermediate.dense.weight', torch.Size([3072, 768])),\n",
       " ('encoder.layer.0.intermediate.dense.bias', torch.Size([3072])),\n",
       " ('encoder.layer.0.output.dense.weight', torch.Size([768, 3072])),\n",
       " ('encoder.layer.0.output.dense.bias', torch.Size([768])),\n",
       " ('encoder.layer.0.output.LayerNorm.weight', torch.Size([768])),\n",
       " ('encoder.layer.0.output.LayerNorm.bias', torch.Size([768])),\n",
       " ('encoder.layer.1.attention.self.query.weight', torch.Size([768, 768])),\n",
       " ('encoder.layer.1.attention.self.query.bias', torch.Size([768])),\n",
       " ('encoder.layer.1.attention.self.key.weight', torch.Size([768, 768])),\n",
       " ('encoder.layer.1.attention.self.key.bias', torch.Size([768])),\n",
       " ('encoder.layer.1.attention.self.value.weight', torch.Size([768, 768])),\n",
       " ('encoder.layer.1.attention.self.value.bias', torch.Size([768])),\n",
       " ('encoder.layer.1.attention.output.dense.weight', torch.Size([768, 768])),\n",
       " ('encoder.layer.1.attention.output.dense.bias', torch.Size([768])),\n",
       " ('encoder.layer.1.attention.output.LayerNorm.weight', torch.Size([768])),\n",
       " ('encoder.layer.1.attention.output.LayerNorm.bias', torch.Size([768])),\n",
       " ('encoder.layer.1.intermediate.dense.weight', torch.Size([3072, 768])),\n",
       " ('encoder.layer.1.intermediate.dense.bias', torch.Size([3072])),\n",
       " ('encoder.layer.1.output.dense.weight', torch.Size([768, 3072])),\n",
       " ('encoder.layer.1.output.dense.bias', torch.Size([768])),\n",
       " ('encoder.layer.1.output.LayerNorm.weight', torch.Size([768])),\n",
       " ('encoder.layer.1.output.LayerNorm.bias', torch.Size([768])),\n",
       " ('encoder.layer.2.attention.self.query.weight', torch.Size([768, 768])),\n",
       " ('encoder.layer.2.attention.self.query.bias', torch.Size([768])),\n",
       " ('encoder.layer.2.attention.self.key.weight', torch.Size([768, 768])),\n",
       " ('encoder.layer.2.attention.self.key.bias', torch.Size([768])),\n",
       " ('encoder.layer.2.attention.self.value.weight', torch.Size([768, 768])),\n",
       " ('encoder.layer.2.attention.self.value.bias', torch.Size([768])),\n",
       " ('encoder.layer.2.attention.output.dense.weight', torch.Size([768, 768])),\n",
       " ('encoder.layer.2.attention.output.dense.bias', torch.Size([768])),\n",
       " ('encoder.layer.2.attention.output.LayerNorm.weight', torch.Size([768])),\n",
       " ('encoder.layer.2.attention.output.LayerNorm.bias', torch.Size([768])),\n",
       " ('encoder.layer.2.intermediate.dense.weight', torch.Size([3072, 768])),\n",
       " ('encoder.layer.2.intermediate.dense.bias', torch.Size([3072])),\n",
       " ('encoder.layer.2.output.dense.weight', torch.Size([768, 3072])),\n",
       " ('encoder.layer.2.output.dense.bias', torch.Size([768])),\n",
       " ('encoder.layer.2.output.LayerNorm.weight', torch.Size([768])),\n",
       " ('encoder.layer.2.output.LayerNorm.bias', torch.Size([768])),\n",
       " ('encoder.layer.3.attention.self.query.weight', torch.Size([768, 768])),\n",
       " ('encoder.layer.3.attention.self.query.bias', torch.Size([768])),\n",
       " ('encoder.layer.3.attention.self.key.weight', torch.Size([768, 768])),\n",
       " ('encoder.layer.3.attention.self.key.bias', torch.Size([768])),\n",
       " ('encoder.layer.3.attention.self.value.weight', torch.Size([768, 768])),\n",
       " ('encoder.layer.3.attention.self.value.bias', torch.Size([768])),\n",
       " ('encoder.layer.3.attention.output.dense.weight', torch.Size([768, 768])),\n",
       " ('encoder.layer.3.attention.output.dense.bias', torch.Size([768])),\n",
       " ('encoder.layer.3.attention.output.LayerNorm.weight', torch.Size([768])),\n",
       " ('encoder.layer.3.attention.output.LayerNorm.bias', torch.Size([768])),\n",
       " ('encoder.layer.3.intermediate.dense.weight', torch.Size([3072, 768])),\n",
       " ('encoder.layer.3.intermediate.dense.bias', torch.Size([3072])),\n",
       " ('encoder.layer.3.output.dense.weight', torch.Size([768, 3072])),\n",
       " ('encoder.layer.3.output.dense.bias', torch.Size([768])),\n",
       " ('encoder.layer.3.output.LayerNorm.weight', torch.Size([768])),\n",
       " ('encoder.layer.3.output.LayerNorm.bias', torch.Size([768])),\n",
       " ('encoder.layer.4.attention.self.query.weight', torch.Size([768, 768])),\n",
       " ('encoder.layer.4.attention.self.query.bias', torch.Size([768])),\n",
       " ('encoder.layer.4.attention.self.key.weight', torch.Size([768, 768])),\n",
       " ('encoder.layer.4.attention.self.key.bias', torch.Size([768])),\n",
       " ('encoder.layer.4.attention.self.value.weight', torch.Size([768, 768])),\n",
       " ('encoder.layer.4.attention.self.value.bias', torch.Size([768])),\n",
       " ('encoder.layer.4.attention.output.dense.weight', torch.Size([768, 768])),\n",
       " ('encoder.layer.4.attention.output.dense.bias', torch.Size([768])),\n",
       " ('encoder.layer.4.attention.output.LayerNorm.weight', torch.Size([768])),\n",
       " ('encoder.layer.4.attention.output.LayerNorm.bias', torch.Size([768])),\n",
       " ('encoder.layer.4.intermediate.dense.weight', torch.Size([3072, 768])),\n",
       " ('encoder.layer.4.intermediate.dense.bias', torch.Size([3072])),\n",
       " ('encoder.layer.4.output.dense.weight', torch.Size([768, 3072])),\n",
       " ('encoder.layer.4.output.dense.bias', torch.Size([768])),\n",
       " ('encoder.layer.4.output.LayerNorm.weight', torch.Size([768])),\n",
       " ('encoder.layer.4.output.LayerNorm.bias', torch.Size([768])),\n",
       " ('encoder.layer.5.attention.self.query.weight', torch.Size([768, 768])),\n",
       " ('encoder.layer.5.attention.self.query.bias', torch.Size([768])),\n",
       " ('encoder.layer.5.attention.self.key.weight', torch.Size([768, 768])),\n",
       " ('encoder.layer.5.attention.self.key.bias', torch.Size([768])),\n",
       " ('encoder.layer.5.attention.self.value.weight', torch.Size([768, 768])),\n",
       " ('encoder.layer.5.attention.self.value.bias', torch.Size([768])),\n",
       " ('encoder.layer.5.attention.output.dense.weight', torch.Size([768, 768])),\n",
       " ('encoder.layer.5.attention.output.dense.bias', torch.Size([768])),\n",
       " ('encoder.layer.5.attention.output.LayerNorm.weight', torch.Size([768])),\n",
       " ('encoder.layer.5.attention.output.LayerNorm.bias', torch.Size([768])),\n",
       " ('encoder.layer.5.intermediate.dense.weight', torch.Size([3072, 768])),\n",
       " ('encoder.layer.5.intermediate.dense.bias', torch.Size([3072])),\n",
       " ('encoder.layer.5.output.dense.weight', torch.Size([768, 3072])),\n",
       " ('encoder.layer.5.output.dense.bias', torch.Size([768])),\n",
       " ('encoder.layer.5.output.LayerNorm.weight', torch.Size([768])),\n",
       " ('encoder.layer.5.output.LayerNorm.bias', torch.Size([768])),\n",
       " ('encoder.layer.6.attention.self.query.weight', torch.Size([768, 768])),\n",
       " ('encoder.layer.6.attention.self.query.bias', torch.Size([768])),\n",
       " ('encoder.layer.6.attention.self.key.weight', torch.Size([768, 768])),\n",
       " ('encoder.layer.6.attention.self.key.bias', torch.Size([768])),\n",
       " ('encoder.layer.6.attention.self.value.weight', torch.Size([768, 768])),\n",
       " ('encoder.layer.6.attention.self.value.bias', torch.Size([768])),\n",
       " ('encoder.layer.6.attention.output.dense.weight', torch.Size([768, 768])),\n",
       " ('encoder.layer.6.attention.output.dense.bias', torch.Size([768])),\n",
       " ('encoder.layer.6.attention.output.LayerNorm.weight', torch.Size([768])),\n",
       " ('encoder.layer.6.attention.output.LayerNorm.bias', torch.Size([768])),\n",
       " ('encoder.layer.6.intermediate.dense.weight', torch.Size([3072, 768])),\n",
       " ('encoder.layer.6.intermediate.dense.bias', torch.Size([3072])),\n",
       " ('encoder.layer.6.output.dense.weight', torch.Size([768, 3072])),\n",
       " ('encoder.layer.6.output.dense.bias', torch.Size([768])),\n",
       " ('encoder.layer.6.output.LayerNorm.weight', torch.Size([768])),\n",
       " ('encoder.layer.6.output.LayerNorm.bias', torch.Size([768])),\n",
       " ('encoder.layer.7.attention.self.query.weight', torch.Size([768, 768])),\n",
       " ('encoder.layer.7.attention.self.query.bias', torch.Size([768])),\n",
       " ('encoder.layer.7.attention.self.key.weight', torch.Size([768, 768])),\n",
       " ('encoder.layer.7.attention.self.key.bias', torch.Size([768])),\n",
       " ('encoder.layer.7.attention.self.value.weight', torch.Size([768, 768])),\n",
       " ('encoder.layer.7.attention.self.value.bias', torch.Size([768])),\n",
       " ('encoder.layer.7.attention.output.dense.weight', torch.Size([768, 768])),\n",
       " ('encoder.layer.7.attention.output.dense.bias', torch.Size([768])),\n",
       " ('encoder.layer.7.attention.output.LayerNorm.weight', torch.Size([768])),\n",
       " ('encoder.layer.7.attention.output.LayerNorm.bias', torch.Size([768])),\n",
       " ('encoder.layer.7.intermediate.dense.weight', torch.Size([3072, 768])),\n",
       " ('encoder.layer.7.intermediate.dense.bias', torch.Size([3072])),\n",
       " ('encoder.layer.7.output.dense.weight', torch.Size([768, 3072])),\n",
       " ('encoder.layer.7.output.dense.bias', torch.Size([768])),\n",
       " ('encoder.layer.7.output.LayerNorm.weight', torch.Size([768])),\n",
       " ('encoder.layer.7.output.LayerNorm.bias', torch.Size([768])),\n",
       " ('encoder.layer.8.attention.self.query.weight', torch.Size([768, 768])),\n",
       " ('encoder.layer.8.attention.self.query.bias', torch.Size([768])),\n",
       " ('encoder.layer.8.attention.self.key.weight', torch.Size([768, 768])),\n",
       " ('encoder.layer.8.attention.self.key.bias', torch.Size([768])),\n",
       " ('encoder.layer.8.attention.self.value.weight', torch.Size([768, 768])),\n",
       " ('encoder.layer.8.attention.self.value.bias', torch.Size([768])),\n",
       " ('encoder.layer.8.attention.output.dense.weight', torch.Size([768, 768])),\n",
       " ('encoder.layer.8.attention.output.dense.bias', torch.Size([768])),\n",
       " ('encoder.layer.8.attention.output.LayerNorm.weight', torch.Size([768])),\n",
       " ('encoder.layer.8.attention.output.LayerNorm.bias', torch.Size([768])),\n",
       " ('encoder.layer.8.intermediate.dense.weight', torch.Size([3072, 768])),\n",
       " ('encoder.layer.8.intermediate.dense.bias', torch.Size([3072])),\n",
       " ('encoder.layer.8.output.dense.weight', torch.Size([768, 3072])),\n",
       " ('encoder.layer.8.output.dense.bias', torch.Size([768])),\n",
       " ('encoder.layer.8.output.LayerNorm.weight', torch.Size([768])),\n",
       " ('encoder.layer.8.output.LayerNorm.bias', torch.Size([768])),\n",
       " ('encoder.layer.9.attention.self.query.weight', torch.Size([768, 768])),\n",
       " ('encoder.layer.9.attention.self.query.bias', torch.Size([768])),\n",
       " ('encoder.layer.9.attention.self.key.weight', torch.Size([768, 768])),\n",
       " ('encoder.layer.9.attention.self.key.bias', torch.Size([768])),\n",
       " ('encoder.layer.9.attention.self.value.weight', torch.Size([768, 768])),\n",
       " ('encoder.layer.9.attention.self.value.bias', torch.Size([768])),\n",
       " ('encoder.layer.9.attention.output.dense.weight', torch.Size([768, 768])),\n",
       " ('encoder.layer.9.attention.output.dense.bias', torch.Size([768])),\n",
       " ('encoder.layer.9.attention.output.LayerNorm.weight', torch.Size([768])),\n",
       " ('encoder.layer.9.attention.output.LayerNorm.bias', torch.Size([768])),\n",
       " ('encoder.layer.9.intermediate.dense.weight', torch.Size([3072, 768])),\n",
       " ('encoder.layer.9.intermediate.dense.bias', torch.Size([3072])),\n",
       " ('encoder.layer.9.output.dense.weight', torch.Size([768, 3072])),\n",
       " ('encoder.layer.9.output.dense.bias', torch.Size([768])),\n",
       " ('encoder.layer.9.output.LayerNorm.weight', torch.Size([768])),\n",
       " ('encoder.layer.9.output.LayerNorm.bias', torch.Size([768])),\n",
       " ('encoder.layer.10.attention.self.query.weight', torch.Size([768, 768])),\n",
       " ('encoder.layer.10.attention.self.query.bias', torch.Size([768])),\n",
       " ('encoder.layer.10.attention.self.key.weight', torch.Size([768, 768])),\n",
       " ('encoder.layer.10.attention.self.key.bias', torch.Size([768])),\n",
       " ('encoder.layer.10.attention.self.value.weight', torch.Size([768, 768])),\n",
       " ('encoder.layer.10.attention.self.value.bias', torch.Size([768])),\n",
       " ('encoder.layer.10.attention.output.dense.weight', torch.Size([768, 768])),\n",
       " ('encoder.layer.10.attention.output.dense.bias', torch.Size([768])),\n",
       " ('encoder.layer.10.attention.output.LayerNorm.weight', torch.Size([768])),\n",
       " ('encoder.layer.10.attention.output.LayerNorm.bias', torch.Size([768])),\n",
       " ('encoder.layer.10.intermediate.dense.weight', torch.Size([3072, 768])),\n",
       " ('encoder.layer.10.intermediate.dense.bias', torch.Size([3072])),\n",
       " ('encoder.layer.10.output.dense.weight', torch.Size([768, 3072])),\n",
       " ('encoder.layer.10.output.dense.bias', torch.Size([768])),\n",
       " ('encoder.layer.10.output.LayerNorm.weight', torch.Size([768])),\n",
       " ('encoder.layer.10.output.LayerNorm.bias', torch.Size([768])),\n",
       " ('pooler.dense.weight', torch.Size([768, 768])),\n",
       " ('pooler.dense.bias', torch.Size([768]))]"
      ]
     },
     "execution_count": 13,
     "metadata": {},
     "output_type": "execute_result"
    }
   ],
   "source": [
    "req_no_grad_list"
   ]
  },
  {
   "cell_type": "code",
   "execution_count": null,
   "id": "669e4509-3ef7-48f9-a9e8-3c4babc80a83",
   "metadata": {},
   "outputs": [],
   "source": []
  },
  {
   "cell_type": "code",
   "execution_count": 3,
   "id": "95e1e0f6-c30c-4030-a989-701517ffb206",
   "metadata": {},
   "outputs": [],
   "source": [
    "embeddings = torch.nn.Embedding(num_embeddings = 1000, embedding_dim = 20)"
   ]
  },
  {
   "cell_type": "code",
   "execution_count": 4,
   "id": "e79e9a30-d373-450b-bd79-8e8ed2fc01c3",
   "metadata": {},
   "outputs": [],
   "source": [
    "word_to_ix = {\"hello\":1, \"hi\":2}"
   ]
  },
  {
   "cell_type": "code",
   "execution_count": 6,
   "id": "9ed374ec-ad6e-4c07-a173-262c0cfda948",
   "metadata": {},
   "outputs": [],
   "source": [
    "lookup_tensor = torch.tensor([word_to_ix[\"hello\"]], dtype=torch.long)"
   ]
  },
  {
   "cell_type": "code",
   "execution_count": 7,
   "id": "8b48118b-f7ae-4555-a2bc-6ec6924950cb",
   "metadata": {},
   "outputs": [
    {
     "data": {
      "text/plain": [
       "tensor([1])"
      ]
     },
     "execution_count": 7,
     "metadata": {},
     "output_type": "execute_result"
    }
   ],
   "source": [
    "lookup_tensor"
   ]
  },
  {
   "cell_type": "code",
   "execution_count": 8,
   "id": "9f9cf0ad-2c81-4ee6-93d7-eb529c289428",
   "metadata": {},
   "outputs": [],
   "source": [
    "hello_embed = embeddings(lookup_tensor)"
   ]
  },
  {
   "cell_type": "code",
   "execution_count": 9,
   "id": "7117e518-6f06-4a8b-9488-76e87b05d53f",
   "metadata": {},
   "outputs": [
    {
     "data": {
      "text/plain": [
       "tensor([[-7.4194e-01,  7.9940e-02,  2.5017e-01, -4.3287e-01,  3.1160e-01,\n",
       "         -7.5300e-04,  7.5953e-01,  1.4580e+00,  4.1279e-01, -2.9551e-01,\n",
       "          1.4725e+00, -3.9782e-01,  1.8795e+00,  1.3693e+00,  1.7420e-01,\n",
       "         -1.0694e+00,  1.5388e+00,  1.1607e+00,  5.9874e-01, -5.8690e-01]],\n",
       "       grad_fn=<EmbeddingBackward0>)"
      ]
     },
     "execution_count": 9,
     "metadata": {},
     "output_type": "execute_result"
    }
   ],
   "source": [
    "hello_embed"
   ]
  },
  {
   "cell_type": "code",
   "execution_count": 10,
   "id": "cba9d1e3-8d3f-4314-93a7-4cb31bfbf13d",
   "metadata": {},
   "outputs": [],
   "source": [
    "lookup_tensor_2 = torch.tensor([word_to_ix[\"hello\"], word_to_ix[\"hi\"]], dtype=torch.long)"
   ]
  },
  {
   "cell_type": "code",
   "execution_count": 11,
   "id": "f5f9808d-6c6b-48f2-a207-f4a81425feee",
   "metadata": {},
   "outputs": [
    {
     "data": {
      "text/plain": [
       "tensor([1, 2])"
      ]
     },
     "execution_count": 11,
     "metadata": {},
     "output_type": "execute_result"
    }
   ],
   "source": [
    "lookup_tensor_2"
   ]
  },
  {
   "cell_type": "code",
   "execution_count": 12,
   "id": "ea9135a9-eee9-4c0c-92ad-49d9f8115f71",
   "metadata": {},
   "outputs": [],
   "source": [
    "tensor_2_embeddings = embeddings(lookup_tensor_2)"
   ]
  },
  {
   "cell_type": "code",
   "execution_count": 13,
   "id": "1f58f48c-9c68-4965-b66d-bbbd43dd9e93",
   "metadata": {},
   "outputs": [
    {
     "data": {
      "text/plain": [
       "tensor([[-7.4194e-01,  7.9940e-02,  2.5017e-01, -4.3287e-01,  3.1160e-01,\n",
       "         -7.5300e-04,  7.5953e-01,  1.4580e+00,  4.1279e-01, -2.9551e-01,\n",
       "          1.4725e+00, -3.9782e-01,  1.8795e+00,  1.3693e+00,  1.7420e-01,\n",
       "         -1.0694e+00,  1.5388e+00,  1.1607e+00,  5.9874e-01, -5.8690e-01],\n",
       "        [ 2.6006e+00,  1.1157e-01, -9.8419e-01,  5.3793e-01, -5.1098e-01,\n",
       "          3.9563e-01,  8.4242e-01,  7.0167e-01,  1.2220e+00,  3.5456e-01,\n",
       "         -2.2770e-01, -8.3115e-01, -9.2951e-01,  3.9858e-01, -6.0387e-02,\n",
       "          3.6298e-01, -4.9793e-01,  1.1272e+00, -7.7456e-02, -4.4773e-01]],\n",
       "       grad_fn=<EmbeddingBackward0>)"
      ]
     },
     "execution_count": 13,
     "metadata": {},
     "output_type": "execute_result"
    }
   ],
   "source": [
    "tensor_2_embeddings"
   ]
  },
  {
   "cell_type": "code",
   "execution_count": 14,
   "id": "d2131e57-b95c-4be4-9a31-eb8b032f98d0",
   "metadata": {},
   "outputs": [],
   "source": [
    "# -- LSTM --"
   ]
  },
  {
   "cell_type": "code",
   "execution_count": null,
   "id": "125d9d6d-c622-401c-a5b4-2ecbba0e1741",
   "metadata": {},
   "outputs": [],
   "source": [
    "rnn = torch.nn.LSTM(input_size=10, hidden_size=20, num_layers=3, batch_first=True)\n"
   ]
  }
 ],
 "metadata": {
  "kernelspec": {
   "display_name": "Python 3 (ipykernel)",
   "language": "python",
   "name": "python3"
  },
  "language_info": {
   "codemirror_mode": {
    "name": "ipython",
    "version": 3
   },
   "file_extension": ".py",
   "mimetype": "text/x-python",
   "name": "python",
   "nbconvert_exporter": "python",
   "pygments_lexer": "ipython3",
   "version": "3.9.7"
  }
 },
 "nbformat": 4,
 "nbformat_minor": 5
}
