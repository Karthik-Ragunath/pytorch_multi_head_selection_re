{
 "cells": [
  {
   "cell_type": "code",
   "execution_count": 1,
   "id": "694c9833-3401-45fc-a31f-ed4c12355e69",
   "metadata": {},
   "outputs": [],
   "source": [
    "import torch"
   ]
  },
  {
   "cell_type": "code",
   "execution_count": 2,
   "id": "d37f3142-68f3-4e42-b5f2-d8cbc6b9b804",
   "metadata": {},
   "outputs": [],
   "source": [
    "random_matrix = torch.rand(3, 5, 2, 5)"
   ]
  },
  {
   "cell_type": "code",
   "execution_count": 3,
   "id": "49c356d9-a62b-4e08-be74-d297b80a13f1",
   "metadata": {},
   "outputs": [
    {
     "data": {
      "text/plain": [
       "torch.Size([3, 5, 2, 5])"
      ]
     },
     "execution_count": 3,
     "metadata": {},
     "output_type": "execute_result"
    }
   ],
   "source": [
    "random_matrix.shape"
   ]
  },
  {
   "cell_type": "code",
   "execution_count": 4,
   "id": "3f633660-9b17-4213-bb18-0b187e40f50d",
   "metadata": {},
   "outputs": [],
   "source": [
    "random_embedding_matrix = torch.rand(3, 5, 7)"
   ]
  },
  {
   "cell_type": "code",
   "execution_count": 5,
   "id": "961777f3-0d78-487e-8383-febbaed16ce8",
   "metadata": {},
   "outputs": [
    {
     "data": {
      "text/plain": [
       "torch.Size([3, 5, 7])"
      ]
     },
     "execution_count": 5,
     "metadata": {},
     "output_type": "execute_result"
    }
   ],
   "source": [
    "random_embedding_matrix.shape"
   ]
  },
  {
   "cell_type": "code",
   "execution_count": 6,
   "id": "87035db6-7dc0-4fc0-bdf0-b87fd67696fc",
   "metadata": {},
   "outputs": [
    {
     "data": {
      "text/plain": [
       "tensor([[[[0.0845, 0.8287, 0.2135, 0.3330, 0.3043],\n",
       "          [0.7011, 0.3216, 0.4450, 0.6756, 0.9506]],\n",
       "\n",
       "         [[0.9042, 0.2701, 0.0535, 0.9580, 0.1860],\n",
       "          [0.4401, 0.1041, 0.1809, 0.5769, 0.7657]],\n",
       "\n",
       "         [[0.7873, 0.9895, 0.0176, 0.8863, 0.2522],\n",
       "          [0.0879, 0.4539, 0.7922, 0.4219, 0.0050]],\n",
       "\n",
       "         [[0.9563, 0.2417, 0.9420, 0.9463, 0.2581],\n",
       "          [0.7685, 0.5358, 0.4376, 0.6116, 0.1069]],\n",
       "\n",
       "         [[0.3436, 0.2957, 0.7537, 0.8346, 0.6959],\n",
       "          [0.2328, 0.7075, 0.5962, 0.6935, 0.2577]]],\n",
       "\n",
       "\n",
       "        [[[0.9525, 0.7711, 0.2572, 0.0264, 0.7877],\n",
       "          [0.5233, 0.6085, 0.0658, 0.7963, 0.0783]],\n",
       "\n",
       "         [[0.9705, 0.4682, 0.4798, 0.9250, 0.6560],\n",
       "          [0.2795, 0.7994, 0.4673, 0.7909, 0.2949]],\n",
       "\n",
       "         [[0.4938, 0.6161, 0.0852, 0.4076, 0.1012],\n",
       "          [0.0834, 0.4930, 0.4599, 0.8585, 0.1178]],\n",
       "\n",
       "         [[0.0913, 0.1287, 0.2173, 0.5981, 0.4742],\n",
       "          [0.8125, 0.6196, 0.2484, 0.4973, 0.8018]],\n",
       "\n",
       "         [[0.7894, 0.5149, 0.7532, 0.7409, 0.4404],\n",
       "          [0.8132, 0.6100, 0.9252, 0.6787, 0.1557]]],\n",
       "\n",
       "\n",
       "        [[[0.9849, 0.4223, 0.7947, 0.2408, 0.0039],\n",
       "          [0.0294, 0.6570, 0.4328, 0.2621, 0.4045]],\n",
       "\n",
       "         [[0.6392, 0.4033, 0.4656, 0.2459, 0.4399],\n",
       "          [0.7197, 0.5921, 0.8599, 0.2660, 0.6513]],\n",
       "\n",
       "         [[0.7505, 0.8655, 0.6659, 0.6190, 0.6541],\n",
       "          [0.3842, 0.5865, 0.4984, 0.2695, 0.2576]],\n",
       "\n",
       "         [[0.4753, 0.8912, 0.1683, 0.6995, 0.0136],\n",
       "          [0.5041, 0.8191, 0.8783, 0.3579, 0.0210]],\n",
       "\n",
       "         [[0.6605, 0.8117, 0.5459, 0.7234, 0.7768],\n",
       "          [0.6352, 0.7647, 0.1220, 0.4276, 0.7322]]]])"
      ]
     },
     "execution_count": 6,
     "metadata": {},
     "output_type": "execute_result"
    }
   ],
   "source": [
    "random_matrix"
   ]
  },
  {
   "cell_type": "code",
   "execution_count": 7,
   "id": "c65daebc-f5ec-4cfe-85e6-918239a05ee9",
   "metadata": {},
   "outputs": [],
   "source": [
    "random_matrix_sample = torch.rand(4, 2, 3, 2)"
   ]
  },
  {
   "cell_type": "code",
   "execution_count": 8,
   "id": "5e26e6ae-a422-4ac2-82df-5e5c810cb0c2",
   "metadata": {},
   "outputs": [
    {
     "data": {
      "text/plain": [
       "torch.Size([4, 2, 3, 2])"
      ]
     },
     "execution_count": 8,
     "metadata": {},
     "output_type": "execute_result"
    }
   ],
   "source": [
    "random_matrix_sample.shape"
   ]
  },
  {
   "cell_type": "code",
   "execution_count": 9,
   "id": "507c2dea-e323-4401-acdc-1920abe5c7fc",
   "metadata": {},
   "outputs": [
    {
     "data": {
      "text/plain": [
       "tensor([[[[0.9466, 0.3912],\n",
       "          [0.4251, 0.6154],\n",
       "          [0.1027, 0.3570]],\n",
       "\n",
       "         [[0.6383, 0.9852],\n",
       "          [0.8653, 0.4193],\n",
       "          [0.1917, 0.2293]]],\n",
       "\n",
       "\n",
       "        [[[0.9351, 0.6478],\n",
       "          [0.4428, 0.4528],\n",
       "          [0.7581, 0.4261]],\n",
       "\n",
       "         [[0.3714, 0.8447],\n",
       "          [0.2622, 0.5211],\n",
       "          [0.1114, 0.1816]]],\n",
       "\n",
       "\n",
       "        [[[0.1594, 0.0827],\n",
       "          [0.1266, 0.5469],\n",
       "          [0.1064, 0.1591]],\n",
       "\n",
       "         [[0.0215, 0.1864],\n",
       "          [0.6365, 0.2466],\n",
       "          [0.5897, 0.1981]]],\n",
       "\n",
       "\n",
       "        [[[0.6845, 0.4809],\n",
       "          [0.3882, 0.8049],\n",
       "          [0.4775, 0.9000]],\n",
       "\n",
       "         [[0.4721, 0.7695],\n",
       "          [0.4817, 0.2462],\n",
       "          [0.8077, 0.6356]]]])"
      ]
     },
     "execution_count": 9,
     "metadata": {},
     "output_type": "execute_result"
    }
   ],
   "source": [
    "random_matrix_sample"
   ]
  },
  {
   "cell_type": "code",
   "execution_count": 10,
   "id": "9cfc7770-3138-4a27-b5cd-b28137af1407",
   "metadata": {},
   "outputs": [],
   "source": [
    "from torch_geometric import nn"
   ]
  },
  {
   "cell_type": "code",
   "execution_count": 11,
   "id": "b9dd52a3-c175-4b2a-972a-75b1a7c29070",
   "metadata": {},
   "outputs": [],
   "source": [
    "input_features = 7\n",
    "output_features = 3\n",
    "gcn_conv1 = nn.GCNConv(input_features, output_features)"
   ]
  },
  {
   "cell_type": "code",
   "execution_count": 12,
   "id": "cb4a468e-552f-4134-b5a5-2da8b4a699dd",
   "metadata": {},
   "outputs": [
    {
     "data": {
      "text/plain": [
       "GCNConv(7, 3)"
      ]
     },
     "execution_count": 12,
     "metadata": {},
     "output_type": "execute_result"
    }
   ],
   "source": [
    "gcn_conv1"
   ]
  },
  {
   "cell_type": "code",
   "execution_count": 13,
   "id": "9f6438ab-09aa-431b-867f-415a3897af27",
   "metadata": {},
   "outputs": [
    {
     "name": "stdout",
     "output_type": "stream",
     "text": [
      "tensor([[[0.9466, 0.3912],\n",
      "         [0.4251, 0.6154],\n",
      "         [0.1027, 0.3570]],\n",
      "\n",
      "        [[0.6383, 0.9852],\n",
      "         [0.8653, 0.4193],\n",
      "         [0.1917, 0.2293]]])\n",
      "tensor([[[0.9351, 0.6478],\n",
      "         [0.4428, 0.4528],\n",
      "         [0.7581, 0.4261]],\n",
      "\n",
      "        [[0.3714, 0.8447],\n",
      "         [0.2622, 0.5211],\n",
      "         [0.1114, 0.1816]]])\n",
      "tensor([[[0.1594, 0.0827],\n",
      "         [0.1266, 0.5469],\n",
      "         [0.1064, 0.1591]],\n",
      "\n",
      "        [[0.0215, 0.1864],\n",
      "         [0.6365, 0.2466],\n",
      "         [0.5897, 0.1981]]])\n",
      "tensor([[[0.6845, 0.4809],\n",
      "         [0.3882, 0.8049],\n",
      "         [0.4775, 0.9000]],\n",
      "\n",
      "        [[0.4721, 0.7695],\n",
      "         [0.4817, 0.2462],\n",
      "         [0.8077, 0.6356]]])\n"
     ]
    }
   ],
   "source": [
    "for r_m in random_matrix_sample:\n",
    "    print(r_m)"
   ]
  },
  {
   "cell_type": "code",
   "execution_count": 14,
   "id": "e2e81ff9-95b6-4485-a3e0-bd26a73a8943",
   "metadata": {},
   "outputs": [
    {
     "data": {
      "text/plain": [
       "torch.Size([2, 3, 2])"
      ]
     },
     "execution_count": 14,
     "metadata": {},
     "output_type": "execute_result"
    }
   ],
   "source": [
    "random_matrix_sample[0].shape"
   ]
  },
  {
   "cell_type": "code",
   "execution_count": 15,
   "id": "8bfabb1a-195b-4849-bc8e-f69fdfb89e29",
   "metadata": {},
   "outputs": [],
   "source": [
    "random_matrix_sample_axis_swapped = torch.swapaxes(random_matrix_sample, -1, -2)"
   ]
  },
  {
   "cell_type": "code",
   "execution_count": 16,
   "id": "0663b33a-01e1-4ab4-b780-bc981ccd1a35",
   "metadata": {},
   "outputs": [
    {
     "data": {
      "text/plain": [
       "tensor([[[[0.9466, 0.4251, 0.1027],\n",
       "          [0.3912, 0.6154, 0.3570]],\n",
       "\n",
       "         [[0.6383, 0.8653, 0.1917],\n",
       "          [0.9852, 0.4193, 0.2293]]],\n",
       "\n",
       "\n",
       "        [[[0.9351, 0.4428, 0.7581],\n",
       "          [0.6478, 0.4528, 0.4261]],\n",
       "\n",
       "         [[0.3714, 0.2622, 0.1114],\n",
       "          [0.8447, 0.5211, 0.1816]]],\n",
       "\n",
       "\n",
       "        [[[0.1594, 0.1266, 0.1064],\n",
       "          [0.0827, 0.5469, 0.1591]],\n",
       "\n",
       "         [[0.0215, 0.6365, 0.5897],\n",
       "          [0.1864, 0.2466, 0.1981]]],\n",
       "\n",
       "\n",
       "        [[[0.6845, 0.3882, 0.4775],\n",
       "          [0.4809, 0.8049, 0.9000]],\n",
       "\n",
       "         [[0.4721, 0.4817, 0.8077],\n",
       "          [0.7695, 0.2462, 0.6356]]]])"
      ]
     },
     "execution_count": 16,
     "metadata": {},
     "output_type": "execute_result"
    }
   ],
   "source": [
    "random_matrix_sample_axis_swapped"
   ]
  },
  {
   "cell_type": "code",
   "execution_count": 17,
   "id": "e4e52d7c-d179-4efd-9872-9633ec874a7d",
   "metadata": {},
   "outputs": [
    {
     "data": {
      "text/plain": [
       "torch.Size([4, 2, 2, 3])"
      ]
     },
     "execution_count": 17,
     "metadata": {},
     "output_type": "execute_result"
    }
   ],
   "source": [
    "random_matrix_sample_axis_swapped.shape"
   ]
  },
  {
   "cell_type": "code",
   "execution_count": 18,
   "id": "a041fd6a-1762-43b2-9f8f-caef865a0c86",
   "metadata": {},
   "outputs": [],
   "source": [
    "stacked_source_dest_tensors = torch.tensor([[[],[]]])\n",
    "stacked_weight_tensors = torch.tensor([[]])\n",
    "for r_m in range(len(random_matrix_sample_axis_swapped)):\n",
    "    source_dest_tensor = torch.tensor([[],[]])\n",
    "    weight_tensor = torch.tensor([])\n",
    "    for source in range(len(random_matrix_sample_axis_swapped[r_m])):\n",
    "        for destination in range(len(random_matrix_sample_axis_swapped[r_m][source])):\n",
    "            for relation in range(len(random_matrix_sample_axis_swapped[r_m][source][destination])):\n",
    "                source_dest_tensor = torch.cat((source_dest_tensor, torch.reshape(torch.tensor([source,destination]), (2,1))), 1)\n",
    "                weight_tensor = torch.cat((weight_tensor, torch.tensor([random_matrix_sample_axis_swapped[r_m][source][destination][relation]])), 0)\n",
    "    source_dest_tensor_unsqueezed = torch.unsqueeze(source_dest_tensor, dim=0)\n",
    "    weight_tensor_unsqueezed = torch.unsqueeze(weight_tensor, dim=0)\n",
    "    if not stacked_source_dest_tensors.numel():\n",
    "        stacked_source_dest_tensors = source_dest_tensor_unsqueezed\n",
    "        stacked_weight_tensors = weight_tensor_unsqueezed\n",
    "    else:\n",
    "        stacked_source_dest_tensors = torch.cat((stacked_source_dest_tensors, source_dest_tensor_unsqueezed), dim=0)\n",
    "        stacked_weight_tensors = torch.cat((stacked_weight_tensors, weight_tensor_unsqueezed), dim=0)"
   ]
  },
  {
   "cell_type": "code",
   "execution_count": 21,
   "id": "f75a2487-7f91-4272-9477-fd8259de7105",
   "metadata": {},
   "outputs": [
    {
     "name": "stdout",
     "output_type": "stream",
     "text": [
      "None\n"
     ]
    }
   ],
   "source": [
    "a = source_dest_tensor_unsqueezed.grad\n",
    "print(a)"
   ]
  },
  {
   "cell_type": "code",
   "execution_count": 23,
   "id": "abb49ad6-4ebf-4b06-9843-d90c75018e15",
   "metadata": {},
   "outputs": [],
   "source": [
    "# stacked_source_dest_long_tensors = stacked_source_dest_tensors.to(dtype=torch.long, device='cuda')"
   ]
  },
  {
   "cell_type": "code",
   "execution_count": 24,
   "id": "e74cf962-6e5a-466c-93ab-35646e7aa010",
   "metadata": {},
   "outputs": [],
   "source": [
    "# stacked_source_dest_long_tensors = stacked_source_dest_tensors.to(dtype=torch.long)\n",
    "stacked_source_dest_long_tensors = stacked_source_dest_tensors.to(dtype=torch.int64)\n",
    "stacked_weight_tensors = stacked_weight_tensors.to(dtype=torch.float32)"
   ]
  },
  {
   "cell_type": "code",
   "execution_count": 25,
   "id": "4a25bafc-3348-4c3b-b679-1f2c6283c5d1",
   "metadata": {},
   "outputs": [],
   "source": [
    "random_embedding = torch.rand(4, 2, 6)"
   ]
  },
  {
   "cell_type": "code",
   "execution_count": 26,
   "id": "81264b58-9fa3-40a8-b240-076984498091",
   "metadata": {},
   "outputs": [],
   "source": [
    "random_embedding = random_embedding.to(dtype=torch.float32)"
   ]
  },
  {
   "cell_type": "code",
   "execution_count": 27,
   "id": "b7fa851f-69db-460d-b534-b7a257b35b5c",
   "metadata": {},
   "outputs": [],
   "source": [
    "# stacked_weight_tensors = stacked_weight_tensors.to(device='cuda')\n",
    "# random_embedding = random_embedding.to(device='cuda')"
   ]
  },
  {
   "cell_type": "code",
   "execution_count": 28,
   "id": "d77af684-fa2d-4c8e-8ca2-96fb4018e7ae",
   "metadata": {},
   "outputs": [
    {
     "name": "stdout",
     "output_type": "stream",
     "text": [
      "torch.Size([4, 2, 12])\n"
     ]
    }
   ],
   "source": [
    "print(stacked_source_dest_long_tensors.shape)"
   ]
  },
  {
   "cell_type": "code",
   "execution_count": 29,
   "id": "67be1216-d41c-4075-bf7e-16f6d7595a88",
   "metadata": {},
   "outputs": [
    {
     "data": {
      "text/plain": [
       "torch.Size([4, 12])"
      ]
     },
     "execution_count": 29,
     "metadata": {},
     "output_type": "execute_result"
    }
   ],
   "source": [
    "stacked_weight_tensors.shape"
   ]
  },
  {
   "cell_type": "code",
   "execution_count": 30,
   "id": "32452d0c-3489-4b83-b8c6-a4d0b57afb8b",
   "metadata": {},
   "outputs": [
    {
     "data": {
      "text/plain": [
       "tensor([[[0.4220, 0.1018, 0.8241, 0.1119, 0.2093, 0.2192],\n",
       "         [0.0227, 0.6543, 0.3533, 0.4529, 0.3985, 0.9358]],\n",
       "\n",
       "        [[0.8118, 0.0596, 0.3051, 0.7720, 0.5624, 0.3288],\n",
       "         [0.5676, 0.0967, 0.2939, 0.1046, 0.0850, 0.4960]],\n",
       "\n",
       "        [[0.7214, 0.7386, 0.0067, 0.8224, 0.1460, 0.3136],\n",
       "         [0.4132, 0.4164, 0.2357, 0.7936, 0.2435, 0.5080]],\n",
       "\n",
       "        [[0.6637, 0.5860, 0.6666, 0.1501, 0.6349, 0.2597],\n",
       "         [0.4139, 0.0842, 0.1259, 0.1615, 0.0983, 0.0268]]])"
      ]
     },
     "execution_count": 30,
     "metadata": {},
     "output_type": "execute_result"
    }
   ],
   "source": [
    "random_embedding"
   ]
  },
  {
   "cell_type": "code",
   "execution_count": 31,
   "id": "cf175564-8a9c-4530-9be1-4fd504bb8919",
   "metadata": {},
   "outputs": [
    {
     "data": {
      "text/plain": [
       "tensor([[0., 0., 0., 0., 0., 0., 1., 1., 1., 1., 1., 1.],\n",
       "        [0., 0., 0., 1., 1., 1., 0., 0., 0., 1., 1., 1.]])"
      ]
     },
     "execution_count": 31,
     "metadata": {},
     "output_type": "execute_result"
    }
   ],
   "source": [
    "stacked_source_dest_tensors[0]"
   ]
  },
  {
   "cell_type": "code",
   "execution_count": 32,
   "id": "c800f48d-03ff-4d34-b161-f944d92ae544",
   "metadata": {},
   "outputs": [
    {
     "data": {
      "text/plain": [
       "torch.Tensor"
      ]
     },
     "execution_count": 32,
     "metadata": {},
     "output_type": "execute_result"
    }
   ],
   "source": [
    "type(stacked_source_dest_tensors[0][0][0])"
   ]
  },
  {
   "cell_type": "code",
   "execution_count": 33,
   "id": "bd34abc2-5fb0-44ac-990a-abf3c46aac21",
   "metadata": {},
   "outputs": [],
   "source": [
    "from torch_geometric import nn"
   ]
  },
  {
   "cell_type": "code",
   "execution_count": 34,
   "id": "0573e7bf-7e42-4b41-ba8b-ffd5f715d72f",
   "metadata": {},
   "outputs": [
    {
     "data": {
      "text/plain": [
       "torch.Size([2, 6])"
      ]
     },
     "execution_count": 34,
     "metadata": {},
     "output_type": "execute_result"
    }
   ],
   "source": [
    "random_embedding[0].shape"
   ]
  },
  {
   "cell_type": "code",
   "execution_count": 35,
   "id": "19cf284f-f9a7-45db-9bf9-bb9294873896",
   "metadata": {},
   "outputs": [
    {
     "data": {
      "text/plain": [
       "torch.Size([12])"
      ]
     },
     "execution_count": 35,
     "metadata": {},
     "output_type": "execute_result"
    }
   ],
   "source": [
    "stacked_weight_tensors[0].shape"
   ]
  },
  {
   "cell_type": "code",
   "execution_count": 36,
   "id": "0cc5fac9-d5db-4f8e-9233-faff63b4129e",
   "metadata": {},
   "outputs": [
    {
     "data": {
      "text/plain": [
       "tensor([0.0829, 0.0077, 0.3238, 0.6267, 0.9532, 0.4927, 0.1342, 0.5063, 0.4062,\n",
       "        0.6981, 0.9172, 0.8768])"
      ]
     },
     "execution_count": 36,
     "metadata": {},
     "output_type": "execute_result"
    }
   ],
   "source": [
    "stacked_weight_tensors[0]"
   ]
  },
  {
   "cell_type": "code",
   "execution_count": 37,
   "id": "ab37c2fc-3fa6-4f57-97ab-51b90e98e0d9",
   "metadata": {},
   "outputs": [
    {
     "data": {
      "text/plain": [
       "torch.Size([2, 6])"
      ]
     },
     "execution_count": 37,
     "metadata": {},
     "output_type": "execute_result"
    }
   ],
   "source": [
    "random_embedding[0].shape"
   ]
  },
  {
   "cell_type": "code",
   "execution_count": 38,
   "id": "7c0b608d-c341-455a-a583-2d18adfd61ce",
   "metadata": {},
   "outputs": [
    {
     "data": {
      "text/plain": [
       "tensor([[0.4220, 0.1018, 0.8241, 0.1119, 0.2093, 0.2192],\n",
       "        [0.0227, 0.6543, 0.3533, 0.4529, 0.3985, 0.9358]])"
      ]
     },
     "execution_count": 38,
     "metadata": {},
     "output_type": "execute_result"
    }
   ],
   "source": [
    "random_embedding[0]"
   ]
  },
  {
   "cell_type": "code",
   "execution_count": 39,
   "id": "03e33376-c9c3-4430-bf87-b5faac9458b2",
   "metadata": {},
   "outputs": [
    {
     "data": {
      "text/plain": [
       "tensor([[0, 0, 0, 0, 0, 0, 1, 1, 1, 1, 1, 1],\n",
       "        [0, 0, 0, 1, 1, 1, 0, 0, 0, 1, 1, 1]])"
      ]
     },
     "execution_count": 39,
     "metadata": {},
     "output_type": "execute_result"
    }
   ],
   "source": [
    "stacked_source_dest_long_tensors[0]"
   ]
  },
  {
   "cell_type": "code",
   "execution_count": 40,
   "id": "45852526-2ea2-4bcf-ac90-5da14ae0784e",
   "metadata": {},
   "outputs": [],
   "source": [
    "from torch_geometric.data import Data"
   ]
  },
  {
   "cell_type": "code",
   "execution_count": 41,
   "id": "95dbc04e-1ca3-40a2-947a-c44b5f3da799",
   "metadata": {},
   "outputs": [],
   "source": [
    "data = Data(x=random_embedding[0], edge_index=stacked_source_dest_long_tensors[0], edge_weights=stacked_weight_tensors[0])"
   ]
  },
  {
   "cell_type": "code",
   "execution_count": 42,
   "id": "eedc263c-3cc2-48ec-9968-a734cb0d0f74",
   "metadata": {},
   "outputs": [
    {
     "data": {
      "text/plain": [
       "6"
      ]
     },
     "execution_count": 42,
     "metadata": {},
     "output_type": "execute_result"
    }
   ],
   "source": [
    "data.num_features"
   ]
  },
  {
   "cell_type": "code",
   "execution_count": 43,
   "id": "8c11a976-698c-4711-b509-d960349fa872",
   "metadata": {},
   "outputs": [
    {
     "data": {
      "text/plain": [
       "tensor([[0, 0, 0, 0, 0, 0, 1, 1, 1, 1, 1, 1],\n",
       "        [0, 0, 0, 1, 1, 1, 0, 0, 0, 1, 1, 1]])"
      ]
     },
     "execution_count": 43,
     "metadata": {},
     "output_type": "execute_result"
    }
   ],
   "source": [
    "data.edge_index"
   ]
  },
  {
   "cell_type": "code",
   "execution_count": 44,
   "id": "a0070150-ef46-4b17-92d0-9b5a0f2c33a8",
   "metadata": {},
   "outputs": [
    {
     "data": {
      "text/plain": [
       "tensor([0.0829, 0.0077, 0.3238, 0.6267, 0.9532, 0.4927, 0.1342, 0.5063, 0.4062,\n",
       "        0.6981, 0.9172, 0.8768])"
      ]
     },
     "execution_count": 44,
     "metadata": {},
     "output_type": "execute_result"
    }
   ],
   "source": [
    "data.edge_weights"
   ]
  },
  {
   "cell_type": "code",
   "execution_count": 45,
   "id": "eacbc921-33cd-4f03-adfd-d80e6b8c9ba6",
   "metadata": {},
   "outputs": [
    {
     "data": {
      "text/plain": [
       "True"
      ]
     },
     "execution_count": 45,
     "metadata": {},
     "output_type": "execute_result"
    }
   ],
   "source": [
    "data.has_self_loops()"
   ]
  },
  {
   "cell_type": "code",
   "execution_count": 46,
   "id": "5fed8c6e-06b3-41bd-b509-aabceb6a7845",
   "metadata": {},
   "outputs": [
    {
     "data": {
      "text/plain": [
       "12"
      ]
     },
     "execution_count": 46,
     "metadata": {},
     "output_type": "execute_result"
    }
   ],
   "source": [
    "data.num_edges"
   ]
  },
  {
   "cell_type": "code",
   "execution_count": 47,
   "id": "5428b766-88f0-4fb1-a8d6-5322d5ca9ed0",
   "metadata": {},
   "outputs": [
    {
     "data": {
      "text/plain": [
       "Data(x=[2, 6], edge_index=[2, 12], edge_weights=[12])"
      ]
     },
     "execution_count": 47,
     "metadata": {},
     "output_type": "execute_result"
    }
   ],
   "source": [
    "data"
   ]
  },
  {
   "cell_type": "code",
   "execution_count": 48,
   "id": "75bd946a-07ff-4aec-a757-b28e27920569",
   "metadata": {},
   "outputs": [],
   "source": [
    "gcn_conv = nn.GCNConv(in_channels=data.num_features, out_channels=5, add_self_loops=False)\n",
    "# gcn_conv = nn.GCNConv(in_channels=data.num_features, out_channels=5)"
   ]
  },
  {
   "cell_type": "code",
   "execution_count": 49,
   "id": "0d80de90-3a4d-470b-9ffe-c7c769fc287d",
   "metadata": {},
   "outputs": [],
   "source": [
    "x = gcn_conv(x = random_embedding[0], edge_index=data.edge_index, edge_weight=data.edge_weights)"
   ]
  },
  {
   "cell_type": "code",
   "execution_count": 50,
   "id": "4852328b-a42a-402d-907f-0adecb270050",
   "metadata": {},
   "outputs": [
    {
     "data": {
      "text/plain": [
       "tensor([[-0.0255,  0.1218, -0.1429, -0.2971, -0.0247],\n",
       "        [ 0.1267,  0.3778, -0.4736, -0.6495, -0.0682]], grad_fn=<AddBackward0>)"
      ]
     },
     "execution_count": 50,
     "metadata": {},
     "output_type": "execute_result"
    }
   ],
   "source": [
    "x"
   ]
  },
  {
   "cell_type": "code",
   "execution_count": 51,
   "id": "49e8858b-f0e2-4ad6-9970-585dea2feed5",
   "metadata": {},
   "outputs": [],
   "source": [
    "from torch_geometric.loader import DataLoader"
   ]
  },
  {
   "cell_type": "code",
   "execution_count": 54,
   "id": "ea0eb265-1031-4a58-8ff0-fed699d14327",
   "metadata": {},
   "outputs": [],
   "source": [
    "stacked_source_dest_tensors = torch.tensor([[[],[]]])\n",
    "stacked_weight_tensors = torch.tensor([[]])\n",
    "for r_m in range(len(random_matrix_sample_axis_swapped)):\n",
    "    source_dest_tensor = torch.tensor([[],[]])\n",
    "    weight_tensor = torch.tensor([])\n",
    "    for source in range(len(random_matrix_sample_axis_swapped[r_m])):\n",
    "        for destination in range(len(random_matrix_sample_axis_swapped[r_m][source])):\n",
    "            for relation in range(len(random_matrix_sample_axis_swapped[r_m][source][destination])):\n",
    "                source_dest_tensor = torch.cat((source_dest_tensor, torch.reshape(torch.tensor([source,destination]), (2,1))), 1)\n",
    "                weight_tensor = torch.cat((weight_tensor, torch.tensor([random_matrix_sample_axis_swapped[r_m][source][destination][relation]])), 0)\n",
    "    source_dest_tensor_unsqueezed = torch.unsqueeze(source_dest_tensor, dim=0)\n",
    "    weight_tensor_unsqueezed = torch.unsqueeze(weight_tensor, dim=0)\n",
    "    if not stacked_source_dest_tensors.numel():\n",
    "        stacked_source_dest_tensors = source_dest_tensor_unsqueezed\n",
    "        stacked_weight_tensors = weight_tensor_unsqueezed\n",
    "    else:\n",
    "        stacked_source_dest_tensors = torch.cat((stacked_source_dest_tensors, source_dest_tensor_unsqueezed), dim=0)\n",
    "        stacked_weight_tensors = torch.cat((stacked_weight_tensors, weight_tensor_unsqueezed), dim=0)\n",
    "\n",
    "stacked_source_dest_long_tensors = stacked_source_dest_tensors.to(dtype=torch.int64)\n",
    "stacked_weight_tensors = stacked_weight_tensors.to(dtype=torch.float32)\n",
    "random_embedding = torch.rand(4, 2, 6)\n",
    "random_embedding = random_embedding.to(dtype=torch.float32)\n",
    "\n",
    "dataset_list = []\n",
    "for index in range(len(stacked_source_dest_long_tensors)):\n",
    "    data = Data(x=random_embedding[index], edge_index=stacked_source_dest_long_tensors[index], edge_weights=stacked_weight_tensors[index])\n",
    "    dataset_list.append(data)\n",
    "batched_dataset = DataLoader(dataset_list, batch_size=2)\n"
   ]
  },
  {
   "cell_type": "code",
   "execution_count": 55,
   "id": "9107a0fd-390d-4c62-8eef-b7192b9c355d",
   "metadata": {},
   "outputs": [
    {
     "data": {
      "text/plain": [
       "<torch_geometric.loader.dataloader.DataLoader at 0x7fee390baee0>"
      ]
     },
     "execution_count": 55,
     "metadata": {},
     "output_type": "execute_result"
    }
   ],
   "source": [
    "batched_dataset"
   ]
  },
  {
   "cell_type": "code",
   "execution_count": 56,
   "id": "716b8119-f730-4cb3-90ea-916b75439508",
   "metadata": {},
   "outputs": [
    {
     "name": "stdout",
     "output_type": "stream",
     "text": [
      "DataBatch(x=[4, 6], edge_index=[2, 24], edge_weights=[24], batch=[4], ptr=[3])\n",
      "DataBatch(x=[4, 6], edge_index=[2, 24], edge_weights=[24], batch=[4], ptr=[3])\n"
     ]
    }
   ],
   "source": [
    "for dataset in batched_dataset:\n",
    "    print(dataset)"
   ]
  },
  {
   "cell_type": "code",
   "execution_count": null,
   "id": "c6f2b463-d750-4a7b-9cbe-264387f53c88",
   "metadata": {},
   "outputs": [],
   "source": []
  },
  {
   "cell_type": "code",
   "execution_count": null,
   "id": "081346cf-2dd9-4b19-ae1a-f0b9c1f4775d",
   "metadata": {},
   "outputs": [],
   "source": []
  },
  {
   "cell_type": "code",
   "execution_count": null,
   "id": "c5ec2bf6-e9dd-45f9-a6e6-b2158ab77a87",
   "metadata": {},
   "outputs": [],
   "source": []
  },
  {
   "cell_type": "code",
   "execution_count": null,
   "id": "3047b366-edc6-4d3b-8e95-1685dceb76ea",
   "metadata": {},
   "outputs": [],
   "source": []
  },
  {
   "cell_type": "code",
   "execution_count": null,
   "id": "8daefc0a-2aaa-41cd-9f2f-516d8e1677b7",
   "metadata": {},
   "outputs": [],
   "source": []
  },
  {
   "cell_type": "code",
   "execution_count": null,
   "id": "32a46581-aaf1-438f-a960-c2f4491331bc",
   "metadata": {},
   "outputs": [],
   "source": []
  },
  {
   "cell_type": "code",
   "execution_count": 99,
   "id": "503fdcdc-ba7d-48d2-917c-846f4cc8b4cb",
   "metadata": {},
   "outputs": [],
   "source": [
    "# --------------- Rough ---------------"
   ]
  },
  {
   "cell_type": "code",
   "execution_count": 20,
   "id": "1e93381f-9a2d-4e7a-a38d-b541c7c34d8a",
   "metadata": {},
   "outputs": [],
   "source": [
    "a = torch.empty((2,3), dtype=torch.int32, device = 'cuda')"
   ]
  },
  {
   "cell_type": "code",
   "execution_count": 24,
   "id": "8ffa0741-e55f-4591-87a3-7dc0a5f7005f",
   "metadata": {},
   "outputs": [],
   "source": [
    "a = torch.rand(3, 4)\n",
    "b = torch.zeros(1, 4)\n",
    "\n",
    "idx = 1"
   ]
  },
  {
   "cell_type": "code",
   "execution_count": 25,
   "id": "47d1c23c-707e-4073-99e1-07fbd7da2759",
   "metadata": {},
   "outputs": [],
   "source": [
    "c = torch.cat([a[:idx], b, a[idx:]], 0)"
   ]
  },
  {
   "cell_type": "code",
   "execution_count": 26,
   "id": "1afe84f5-548f-4437-ae07-e240f10b4f31",
   "metadata": {},
   "outputs": [
    {
     "data": {
      "text/plain": [
       "tensor([[0.3400, 0.8049, 0.7360, 0.5542],\n",
       "        [0.0220, 0.6208, 0.7575, 0.9252],\n",
       "        [0.1766, 0.6195, 0.2240, 0.5277]])"
      ]
     },
     "execution_count": 26,
     "metadata": {},
     "output_type": "execute_result"
    }
   ],
   "source": [
    "a"
   ]
  },
  {
   "cell_type": "code",
   "execution_count": 27,
   "id": "267dd6cf-76c5-4932-b460-0e91d83d15b4",
   "metadata": {},
   "outputs": [
    {
     "data": {
      "text/plain": [
       "tensor([[0., 0., 0., 0.]])"
      ]
     },
     "execution_count": 27,
     "metadata": {},
     "output_type": "execute_result"
    }
   ],
   "source": [
    "b"
   ]
  },
  {
   "cell_type": "code",
   "execution_count": 28,
   "id": "00c21a94-83b4-45b0-929c-d679e77a9fca",
   "metadata": {},
   "outputs": [
    {
     "data": {
      "text/plain": [
       "tensor([[0.3400, 0.8049, 0.7360, 0.5542],\n",
       "        [0.0000, 0.0000, 0.0000, 0.0000],\n",
       "        [0.0220, 0.6208, 0.7575, 0.9252],\n",
       "        [0.1766, 0.6195, 0.2240, 0.5277]])"
      ]
     },
     "execution_count": 28,
     "metadata": {},
     "output_type": "execute_result"
    }
   ],
   "source": [
    "c"
   ]
  },
  {
   "cell_type": "code",
   "execution_count": 29,
   "id": "10f5483a-352c-4175-ae39-e3dcbd029173",
   "metadata": {},
   "outputs": [],
   "source": [
    "d = torch.cat([a[:idx], b], 0)"
   ]
  },
  {
   "cell_type": "code",
   "execution_count": 30,
   "id": "f297c6f7-8ea9-4cdf-82cd-e2d32e0ef4e6",
   "metadata": {},
   "outputs": [
    {
     "data": {
      "text/plain": [
       "tensor([[0.3400, 0.8049, 0.7360, 0.5542],\n",
       "        [0.0000, 0.0000, 0.0000, 0.0000]])"
      ]
     },
     "execution_count": 30,
     "metadata": {},
     "output_type": "execute_result"
    }
   ],
   "source": [
    "d"
   ]
  },
  {
   "cell_type": "code",
   "execution_count": 35,
   "id": "3a009ea6-893e-481d-926e-0997f5d59350",
   "metadata": {},
   "outputs": [],
   "source": [
    "e = torch.cat([a[0], torch.tensor([1])], 0)"
   ]
  },
  {
   "cell_type": "code",
   "execution_count": 32,
   "id": "fc35b8b3-d05f-4d64-9a96-31ee59c96bd3",
   "metadata": {},
   "outputs": [
    {
     "data": {
      "text/plain": [
       "torch.Size([4])"
      ]
     },
     "execution_count": 32,
     "metadata": {},
     "output_type": "execute_result"
    }
   ],
   "source": [
    "a[0].shape"
   ]
  },
  {
   "cell_type": "code",
   "execution_count": 33,
   "id": "0d9ed9b0-b81b-4737-8c06-e74d873a1382",
   "metadata": {},
   "outputs": [
    {
     "data": {
      "text/plain": [
       "torch.Size([1, 4])"
      ]
     },
     "execution_count": 33,
     "metadata": {},
     "output_type": "execute_result"
    }
   ],
   "source": [
    "b.shape"
   ]
  },
  {
   "cell_type": "code",
   "execution_count": 36,
   "id": "ff3e7505-f1bc-4a12-bf5f-e1c2c83c9c5a",
   "metadata": {},
   "outputs": [
    {
     "data": {
      "text/plain": [
       "tensor([0.3400, 0.8049, 0.7360, 0.5542, 1.0000])"
      ]
     },
     "execution_count": 36,
     "metadata": {},
     "output_type": "execute_result"
    }
   ],
   "source": [
    "e"
   ]
  },
  {
   "cell_type": "code",
   "execution_count": 37,
   "id": "b3b862ac-3dfc-4200-a69c-934a42813e2d",
   "metadata": {},
   "outputs": [
    {
     "data": {
      "text/plain": [
       "tensor([[0.3400, 0.8049, 0.7360, 0.5542],\n",
       "        [0.0220, 0.6208, 0.7575, 0.9252],\n",
       "        [0.1766, 0.6195, 0.2240, 0.5277]])"
      ]
     },
     "execution_count": 37,
     "metadata": {},
     "output_type": "execute_result"
    }
   ],
   "source": [
    "a"
   ]
  },
  {
   "cell_type": "code",
   "execution_count": 38,
   "id": "83fc3ffa-9188-4d1f-8fb5-ea8051199035",
   "metadata": {},
   "outputs": [],
   "source": [
    "source_dest_tensor = torch.tensor([[]]) "
   ]
  },
  {
   "cell_type": "code",
   "execution_count": 50,
   "id": "dc4626fc-5c1f-4027-bf0e-b82756dbf156",
   "metadata": {},
   "outputs": [],
   "source": [
    "f = torch.cat((a, torch.reshape(torch.tensor([1,2,3]), (3,1))), 1)"
   ]
  },
  {
   "cell_type": "code",
   "execution_count": 41,
   "id": "5c236179-b7f3-42c0-9d0f-b1421558515c",
   "metadata": {},
   "outputs": [
    {
     "data": {
      "text/plain": [
       "torch.Size([0, 4])"
      ]
     },
     "execution_count": 41,
     "metadata": {},
     "output_type": "execute_result"
    }
   ],
   "source": [
    "a[:0].shape"
   ]
  },
  {
   "cell_type": "code",
   "execution_count": 43,
   "id": "13f7d652-68cc-4ad0-9350-f35c780b3617",
   "metadata": {},
   "outputs": [
    {
     "data": {
      "text/plain": [
       "torch.Size([3, 4])"
      ]
     },
     "execution_count": 43,
     "metadata": {},
     "output_type": "execute_result"
    }
   ],
   "source": [
    "a[0:].shape"
   ]
  },
  {
   "cell_type": "code",
   "execution_count": 44,
   "id": "4c327a93-48f7-4e46-8a6d-170571663571",
   "metadata": {},
   "outputs": [
    {
     "data": {
      "text/plain": [
       "torch.Size([3, 4])"
      ]
     },
     "execution_count": 44,
     "metadata": {},
     "output_type": "execute_result"
    }
   ],
   "source": [
    "a.shape"
   ]
  },
  {
   "cell_type": "code",
   "execution_count": 52,
   "id": "05c7c59f-bbb0-44e3-9ebc-409437ca1a8f",
   "metadata": {},
   "outputs": [],
   "source": [
    "h = torch.tensor([])"
   ]
  },
  {
   "cell_type": "code",
   "execution_count": 55,
   "id": "1de71ebd-10ec-411e-9db6-642a6f832187",
   "metadata": {},
   "outputs": [],
   "source": [
    "h = torch.cat((h, torch.tensor([0])), 0)"
   ]
  },
  {
   "cell_type": "code",
   "execution_count": 56,
   "id": "1f8569d0-a33e-4181-b337-1021ae35656b",
   "metadata": {},
   "outputs": [
    {
     "data": {
      "text/plain": [
       "tensor([0.])"
      ]
     },
     "execution_count": 56,
     "metadata": {},
     "output_type": "execute_result"
    }
   ],
   "source": [
    "h"
   ]
  },
  {
   "cell_type": "code",
   "execution_count": 74,
   "id": "ca38deb0-3044-4b10-a6b0-94eae463bc76",
   "metadata": {},
   "outputs": [],
   "source": [
    "tensor_1 = torch.tensor([])\n",
    "tensor_2 = torch.ones(2,2)"
   ]
  },
  {
   "cell_type": "code",
   "execution_count": 78,
   "id": "f9cd1295-0f28-4280-b315-c865e13ffee6",
   "metadata": {},
   "outputs": [
    {
     "data": {
      "text/plain": [
       "0"
      ]
     },
     "execution_count": 78,
     "metadata": {},
     "output_type": "execute_result"
    }
   ],
   "source": [
    "stacked_source_dest_tensors = torch.tensor([[],[]])\n",
    "stacked_source_dest_tensors.numel()"
   ]
  },
  {
   "cell_type": "code",
   "execution_count": 86,
   "id": "34ca85ae-8f19-450a-897e-8716c8e3c94a",
   "metadata": {},
   "outputs": [
    {
     "data": {
      "text/plain": [
       "tensor([[1., 1.],\n",
       "        [1., 1.]])"
      ]
     },
     "execution_count": 86,
     "metadata": {},
     "output_type": "execute_result"
    }
   ],
   "source": [
    "tensor_2"
   ]
  },
  {
   "cell_type": "code",
   "execution_count": 89,
   "id": "f87e0228-ab65-4af3-8a64-1e65f5ee9c0a",
   "metadata": {},
   "outputs": [
    {
     "data": {
      "text/plain": [
       "tensor([[[1., 1.],\n",
       "         [1., 1.]]])"
      ]
     },
     "execution_count": 89,
     "metadata": {},
     "output_type": "execute_result"
    }
   ],
   "source": [
    "torch.unsqueeze(tensor_2, dim = 0)"
   ]
  },
  {
   "cell_type": "code",
   "execution_count": 112,
   "id": "1dad8891-cc18-4ca9-8287-19fd5cee9177",
   "metadata": {},
   "outputs": [],
   "source": [
    "x = torch.tensor(1).long()"
   ]
  },
  {
   "cell_type": "code",
   "execution_count": 113,
   "id": "4ce63aa9-e70e-48cf-b8a9-e75664c86b7d",
   "metadata": {},
   "outputs": [
    {
     "data": {
      "text/plain": [
       "tensor(1)"
      ]
     },
     "execution_count": 113,
     "metadata": {},
     "output_type": "execute_result"
    }
   ],
   "source": [
    "x"
   ]
  },
  {
   "cell_type": "code",
   "execution_count": 147,
   "id": "d3fc7525-5868-41e3-a149-73b0110b4cf6",
   "metadata": {},
   "outputs": [],
   "source": [
    "x = torch.LongTensor(1)"
   ]
  },
  {
   "cell_type": "code",
   "execution_count": 151,
   "id": "2aed4c3c-3d51-4b1c-bdeb-4e8c7ef6a110",
   "metadata": {},
   "outputs": [
    {
     "data": {
      "text/plain": [
       "0"
      ]
     },
     "execution_count": 151,
     "metadata": {},
     "output_type": "execute_result"
    }
   ],
   "source": [
    "torch.cuda.current_device()"
   ]
  },
  {
   "cell_type": "code",
   "execution_count": 1,
   "id": "9de6e2cf-c3f2-4f5f-8d87-4d7174d4d5f9",
   "metadata": {},
   "outputs": [
    {
     "name": "stderr",
     "output_type": "stream",
     "text": [
      "Downloading https://www.chrsmrrs.com/graphkerneldatasets/ENZYMES.zip\n",
      "Extracting /tmp/ENZYMES/ENZYMES/ENZYMES.zip\n",
      "Processing...\n",
      "Done!\n"
     ]
    }
   ],
   "source": [
    "from torch_geometric.datasets import TUDataset\n",
    "tu_dataset = TUDataset(root='/tmp/ENZYMES', name='ENZYMES', use_node_attr=True)"
   ]
  },
  {
   "cell_type": "code",
   "execution_count": 2,
   "id": "d0ea8aa1-e175-432d-ab8d-180c8ba6f9af",
   "metadata": {},
   "outputs": [
    {
     "data": {
      "text/plain": [
       "ENZYMES(600)"
      ]
     },
     "execution_count": 2,
     "metadata": {},
     "output_type": "execute_result"
    }
   ],
   "source": [
    "tu_dataset"
   ]
  },
  {
   "cell_type": "code",
   "execution_count": null,
   "id": "a56ee7d4-df10-4548-9693-9cd9b9eadf12",
   "metadata": {},
   "outputs": [],
   "source": []
  }
 ],
 "metadata": {
  "kernelspec": {
   "display_name": "Python 3 (ipykernel)",
   "language": "python",
   "name": "python3"
  },
  "language_info": {
   "codemirror_mode": {
    "name": "ipython",
    "version": 3
   },
   "file_extension": ".py",
   "mimetype": "text/x-python",
   "name": "python",
   "nbconvert_exporter": "python",
   "pygments_lexer": "ipython3",
   "version": "3.8.12"
  }
 },
 "nbformat": 4,
 "nbformat_minor": 5
}
