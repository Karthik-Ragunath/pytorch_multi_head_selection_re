{
 "cells": [
  {
   "cell_type": "code",
   "execution_count": 2,
   "id": "694c9833-3401-45fc-a31f-ed4c12355e69",
   "metadata": {},
   "outputs": [],
   "source": [
    "import torch"
   ]
  },
  {
   "cell_type": "code",
   "execution_count": 3,
   "id": "d37f3142-68f3-4e42-b5f2-d8cbc6b9b804",
   "metadata": {},
   "outputs": [],
   "source": [
    "random_matrix = torch.rand(3, 5, 2, 5)"
   ]
  },
  {
   "cell_type": "code",
   "execution_count": 4,
   "id": "49c356d9-a62b-4e08-be74-d297b80a13f1",
   "metadata": {},
   "outputs": [
    {
     "data": {
      "text/plain": [
       "torch.Size([3, 5, 2, 5])"
      ]
     },
     "execution_count": 4,
     "metadata": {},
     "output_type": "execute_result"
    }
   ],
   "source": [
    "random_matrix.shape"
   ]
  },
  {
   "cell_type": "code",
   "execution_count": 5,
   "id": "3f633660-9b17-4213-bb18-0b187e40f50d",
   "metadata": {},
   "outputs": [],
   "source": [
    "random_embedding_matrix = torch.rand(3, 5, 7)"
   ]
  },
  {
   "cell_type": "code",
   "execution_count": 6,
   "id": "961777f3-0d78-487e-8383-febbaed16ce8",
   "metadata": {},
   "outputs": [
    {
     "data": {
      "text/plain": [
       "torch.Size([3, 5, 7])"
      ]
     },
     "execution_count": 6,
     "metadata": {},
     "output_type": "execute_result"
    }
   ],
   "source": [
    "random_embedding_matrix.shape"
   ]
  },
  {
   "cell_type": "code",
   "execution_count": 7,
   "id": "87035db6-7dc0-4fc0-bdf0-b87fd67696fc",
   "metadata": {},
   "outputs": [
    {
     "data": {
      "text/plain": [
       "tensor([[[[0.6609, 0.3117, 0.4132, 0.1824, 0.5999],\n",
       "          [0.4193, 0.2716, 0.2915, 0.7123, 0.0070]],\n",
       "\n",
       "         [[0.8955, 0.9758, 0.7991, 0.4739, 0.5948],\n",
       "          [0.3324, 0.4565, 0.4425, 0.8621, 0.8973]],\n",
       "\n",
       "         [[0.5418, 0.4255, 0.6773, 0.2943, 0.0501],\n",
       "          [0.4185, 0.2598, 0.6754, 0.1338, 0.5878]],\n",
       "\n",
       "         [[0.9902, 0.2338, 0.9680, 0.7160, 0.3629],\n",
       "          [0.5636, 0.6936, 0.4577, 0.9497, 0.7110]],\n",
       "\n",
       "         [[0.5689, 0.0322, 0.7044, 0.0701, 0.5104],\n",
       "          [0.8420, 0.4137, 0.4804, 0.0684, 0.0082]]],\n",
       "\n",
       "\n",
       "        [[[0.3561, 0.9790, 0.2697, 0.2121, 0.7607],\n",
       "          [0.3377, 0.6760, 0.9259, 0.8865, 0.1825]],\n",
       "\n",
       "         [[0.5376, 0.2781, 0.5169, 0.4064, 0.1010],\n",
       "          [0.9637, 0.4761, 0.5293, 0.6767, 0.8654]],\n",
       "\n",
       "         [[0.9840, 0.1978, 0.8009, 0.5150, 0.8402],\n",
       "          [0.8706, 0.4886, 0.1096, 0.0494, 0.7180]],\n",
       "\n",
       "         [[0.5536, 0.7448, 0.1231, 0.6998, 0.4481],\n",
       "          [0.4962, 0.5576, 0.3873, 0.9661, 0.8733]],\n",
       "\n",
       "         [[0.2851, 0.0431, 0.5553, 0.0389, 0.8156],\n",
       "          [0.5985, 0.4283, 0.9086, 0.7270, 0.7257]]],\n",
       "\n",
       "\n",
       "        [[[0.6417, 0.3975, 0.1144, 0.4482, 0.2009],\n",
       "          [0.8006, 0.3307, 0.2489, 0.5116, 0.2963]],\n",
       "\n",
       "         [[0.5642, 0.0728, 0.5217, 0.7163, 0.6828],\n",
       "          [0.4064, 0.5650, 0.1226, 0.6912, 0.3845]],\n",
       "\n",
       "         [[0.8203, 0.9043, 0.2522, 0.5128, 0.7025],\n",
       "          [0.5930, 0.6094, 0.4391, 0.3952, 0.3593]],\n",
       "\n",
       "         [[0.0367, 0.1533, 0.7759, 0.6642, 0.7659],\n",
       "          [0.3963, 0.0124, 0.3129, 0.4130, 0.6742]],\n",
       "\n",
       "         [[0.7237, 0.3520, 0.2885, 0.6625, 0.0771],\n",
       "          [0.0888, 0.2322, 0.8599, 0.4486, 0.1442]]]])"
      ]
     },
     "execution_count": 7,
     "metadata": {},
     "output_type": "execute_result"
    }
   ],
   "source": [
    "random_matrix"
   ]
  },
  {
   "cell_type": "code",
   "execution_count": 8,
   "id": "c65daebc-f5ec-4cfe-85e6-918239a05ee9",
   "metadata": {},
   "outputs": [],
   "source": [
    "random_matrix_sample = torch.rand(4, 2, 3, 2)"
   ]
  },
  {
   "cell_type": "code",
   "execution_count": 9,
   "id": "5e26e6ae-a422-4ac2-82df-5e5c810cb0c2",
   "metadata": {},
   "outputs": [
    {
     "data": {
      "text/plain": [
       "torch.Size([4, 2, 3, 2])"
      ]
     },
     "execution_count": 9,
     "metadata": {},
     "output_type": "execute_result"
    }
   ],
   "source": [
    "random_matrix_sample.shape"
   ]
  },
  {
   "cell_type": "code",
   "execution_count": 10,
   "id": "507c2dea-e323-4401-acdc-1920abe5c7fc",
   "metadata": {},
   "outputs": [
    {
     "data": {
      "text/plain": [
       "tensor([[[[0.7520, 0.7216],\n",
       "          [0.9462, 0.9340],\n",
       "          [0.0463, 0.0461]],\n",
       "\n",
       "         [[0.1181, 0.0661],\n",
       "          [0.5583, 0.6034],\n",
       "          [0.7876, 0.9126]]],\n",
       "\n",
       "\n",
       "        [[[0.7190, 0.5196],\n",
       "          [0.4210, 0.2044],\n",
       "          [0.7984, 0.6241]],\n",
       "\n",
       "         [[0.2138, 0.6175],\n",
       "          [0.5786, 0.4449],\n",
       "          [0.1345, 0.4776]]],\n",
       "\n",
       "\n",
       "        [[[0.6581, 0.2403],\n",
       "          [0.0336, 0.0842],\n",
       "          [0.4928, 0.4662]],\n",
       "\n",
       "         [[0.5424, 0.7026],\n",
       "          [0.1061, 0.1243],\n",
       "          [0.5827, 0.9731]]],\n",
       "\n",
       "\n",
       "        [[[0.9404, 0.7873],\n",
       "          [0.4356, 0.0884],\n",
       "          [0.3342, 0.1004]],\n",
       "\n",
       "         [[0.2249, 0.0463],\n",
       "          [0.0297, 0.7939],\n",
       "          [0.8779, 0.9528]]]])"
      ]
     },
     "execution_count": 10,
     "metadata": {},
     "output_type": "execute_result"
    }
   ],
   "source": [
    "random_matrix_sample"
   ]
  },
  {
   "cell_type": "code",
   "execution_count": 11,
   "id": "9cfc7770-3138-4a27-b5cd-b28137af1407",
   "metadata": {},
   "outputs": [],
   "source": [
    "from torch_geometric import nn"
   ]
  },
  {
   "cell_type": "code",
   "execution_count": 12,
   "id": "b9dd52a3-c175-4b2a-972a-75b1a7c29070",
   "metadata": {},
   "outputs": [],
   "source": [
    "input_features = 7\n",
    "output_features = 3\n",
    "gcn_conv1 = nn.GCNConv(input_features, output_features)"
   ]
  },
  {
   "cell_type": "code",
   "execution_count": 13,
   "id": "cb4a468e-552f-4134-b5a5-2da8b4a699dd",
   "metadata": {},
   "outputs": [
    {
     "data": {
      "text/plain": [
       "GCNConv(7, 3)"
      ]
     },
     "execution_count": 13,
     "metadata": {},
     "output_type": "execute_result"
    }
   ],
   "source": [
    "gcn_conv1"
   ]
  },
  {
   "cell_type": "code",
   "execution_count": 14,
   "id": "9f6438ab-09aa-431b-867f-415a3897af27",
   "metadata": {},
   "outputs": [
    {
     "name": "stdout",
     "output_type": "stream",
     "text": [
      "tensor([[[0.7520, 0.7216],\n",
      "         [0.9462, 0.9340],\n",
      "         [0.0463, 0.0461]],\n",
      "\n",
      "        [[0.1181, 0.0661],\n",
      "         [0.5583, 0.6034],\n",
      "         [0.7876, 0.9126]]])\n",
      "tensor([[[0.7190, 0.5196],\n",
      "         [0.4210, 0.2044],\n",
      "         [0.7984, 0.6241]],\n",
      "\n",
      "        [[0.2138, 0.6175],\n",
      "         [0.5786, 0.4449],\n",
      "         [0.1345, 0.4776]]])\n",
      "tensor([[[0.6581, 0.2403],\n",
      "         [0.0336, 0.0842],\n",
      "         [0.4928, 0.4662]],\n",
      "\n",
      "        [[0.5424, 0.7026],\n",
      "         [0.1061, 0.1243],\n",
      "         [0.5827, 0.9731]]])\n",
      "tensor([[[0.9404, 0.7873],\n",
      "         [0.4356, 0.0884],\n",
      "         [0.3342, 0.1004]],\n",
      "\n",
      "        [[0.2249, 0.0463],\n",
      "         [0.0297, 0.7939],\n",
      "         [0.8779, 0.9528]]])\n"
     ]
    }
   ],
   "source": [
    "for r_m in random_matrix_sample:\n",
    "    print(r_m)"
   ]
  },
  {
   "cell_type": "code",
   "execution_count": 15,
   "id": "e2e81ff9-95b6-4485-a3e0-bd26a73a8943",
   "metadata": {},
   "outputs": [
    {
     "data": {
      "text/plain": [
       "torch.Size([2, 3, 2])"
      ]
     },
     "execution_count": 15,
     "metadata": {},
     "output_type": "execute_result"
    }
   ],
   "source": [
    "random_matrix_sample[0].shape"
   ]
  },
  {
   "cell_type": "code",
   "execution_count": 16,
   "id": "8bfabb1a-195b-4849-bc8e-f69fdfb89e29",
   "metadata": {},
   "outputs": [],
   "source": [
    "random_matrix_sample_axis_swapped = torch.swapaxes(random_matrix_sample, -1, -2)"
   ]
  },
  {
   "cell_type": "code",
   "execution_count": 17,
   "id": "0663b33a-01e1-4ab4-b780-bc981ccd1a35",
   "metadata": {},
   "outputs": [
    {
     "data": {
      "text/plain": [
       "tensor([[[[0.7520, 0.9462, 0.0463],\n",
       "          [0.7216, 0.9340, 0.0461]],\n",
       "\n",
       "         [[0.1181, 0.5583, 0.7876],\n",
       "          [0.0661, 0.6034, 0.9126]]],\n",
       "\n",
       "\n",
       "        [[[0.7190, 0.4210, 0.7984],\n",
       "          [0.5196, 0.2044, 0.6241]],\n",
       "\n",
       "         [[0.2138, 0.5786, 0.1345],\n",
       "          [0.6175, 0.4449, 0.4776]]],\n",
       "\n",
       "\n",
       "        [[[0.6581, 0.0336, 0.4928],\n",
       "          [0.2403, 0.0842, 0.4662]],\n",
       "\n",
       "         [[0.5424, 0.1061, 0.5827],\n",
       "          [0.7026, 0.1243, 0.9731]]],\n",
       "\n",
       "\n",
       "        [[[0.9404, 0.4356, 0.3342],\n",
       "          [0.7873, 0.0884, 0.1004]],\n",
       "\n",
       "         [[0.2249, 0.0297, 0.8779],\n",
       "          [0.0463, 0.7939, 0.9528]]]])"
      ]
     },
     "execution_count": 17,
     "metadata": {},
     "output_type": "execute_result"
    }
   ],
   "source": [
    "random_matrix_sample_axis_swapped"
   ]
  },
  {
   "cell_type": "code",
   "execution_count": 18,
   "id": "e4e52d7c-d179-4efd-9872-9633ec874a7d",
   "metadata": {},
   "outputs": [
    {
     "data": {
      "text/plain": [
       "torch.Size([4, 2, 2, 3])"
      ]
     },
     "execution_count": 18,
     "metadata": {},
     "output_type": "execute_result"
    }
   ],
   "source": [
    "random_matrix_sample_axis_swapped.shape"
   ]
  },
  {
   "cell_type": "code",
   "execution_count": 95,
   "id": "a041fd6a-1762-43b2-9f8f-caef865a0c86",
   "metadata": {},
   "outputs": [],
   "source": [
    "stacked_source_dest_tensors = torch.tensor([[[],[]]])\n",
    "stacked_weight_tensors = torch.tensor([[]])\n",
    "for r_m in range(len(random_matrix_sample_axis_swapped)):\n",
    "    source_dest_tensor = torch.tensor([[],[]])\n",
    "    weight_tensor = torch.tensor([])\n",
    "    for source in range(len(random_matrix_sample_axis_swapped[r_m])):\n",
    "        for destination in range(len(random_matrix_sample_axis_swapped[r_m][source])):\n",
    "            for relation in range(len(random_matrix_sample_axis_swapped[r_m][source][destination])):\n",
    "                source_dest_tensor = torch.cat((source_dest_tensor, torch.reshape(torch.tensor([source + 1, destination + 1]), (2,1))), 1)\n",
    "                weight_tensor = torch.cat((weight_tensor, torch.tensor([random_matrix_sample_axis_swapped[r_m][source][destination][relation]])), 0)\n",
    "    source_dest_tensor_unsqueezed = torch.unsqueeze(source_dest_tensor, dim=0)\n",
    "    weight_tensor_unsqueezed = torch.unsqueeze(weight_tensor, dim=0)\n",
    "    if not stacked_source_dest_tensors.numel():\n",
    "        stacked_source_dest_tensors = source_dest_tensor_unsqueezed\n",
    "        stacked_weight_tensors = weight_tensor_unsqueezed\n",
    "    else:\n",
    "        stacked_source_dest_tensors = torch.cat((stacked_source_dest_tensors, source_dest_tensor_unsqueezed), dim=0)\n",
    "        stacked_weight_tensors = torch.cat((stacked_weight_tensors, weight_tensor_unsqueezed), dim=0)"
   ]
  },
  {
   "cell_type": "code",
   "execution_count": 96,
   "id": "d77af684-fa2d-4c8e-8ca2-96fb4018e7ae",
   "metadata": {},
   "outputs": [
    {
     "name": "stdout",
     "output_type": "stream",
     "text": [
      "torch.Size([4, 2, 12])\n"
     ]
    }
   ],
   "source": [
    "print(stacked_source_dest_tensors.shape)"
   ]
  },
  {
   "cell_type": "code",
   "execution_count": 97,
   "id": "67be1216-d41c-4075-bf7e-16f6d7595a88",
   "metadata": {},
   "outputs": [
    {
     "data": {
      "text/plain": [
       "torch.Size([4, 12])"
      ]
     },
     "execution_count": 97,
     "metadata": {},
     "output_type": "execute_result"
    }
   ],
   "source": [
    "stacked_weight_tensors.shape"
   ]
  },
  {
   "cell_type": "code",
   "execution_count": null,
   "id": "32452d0c-3489-4b83-b8c6-a4d0b57afb8b",
   "metadata": {},
   "outputs": [],
   "source": []
  },
  {
   "cell_type": "code",
   "execution_count": null,
   "id": "60538943-acf2-4743-a9f2-86e9b46c8baf",
   "metadata": {},
   "outputs": [],
   "source": []
  },
  {
   "cell_type": "code",
   "execution_count": 99,
   "id": "503fdcdc-ba7d-48d2-917c-846f4cc8b4cb",
   "metadata": {},
   "outputs": [],
   "source": [
    "# --------------- Rough ---------------"
   ]
  },
  {
   "cell_type": "code",
   "execution_count": 20,
   "id": "1e93381f-9a2d-4e7a-a38d-b541c7c34d8a",
   "metadata": {},
   "outputs": [],
   "source": [
    "a = torch.empty((2,3), dtype=torch.int32, device = 'cuda')"
   ]
  },
  {
   "cell_type": "code",
   "execution_count": 24,
   "id": "8ffa0741-e55f-4591-87a3-7dc0a5f7005f",
   "metadata": {},
   "outputs": [],
   "source": [
    "a = torch.rand(3, 4)\n",
    "b = torch.zeros(1, 4)\n",
    "\n",
    "idx = 1"
   ]
  },
  {
   "cell_type": "code",
   "execution_count": 25,
   "id": "47d1c23c-707e-4073-99e1-07fbd7da2759",
   "metadata": {},
   "outputs": [],
   "source": [
    "c = torch.cat([a[:idx], b, a[idx:]], 0)"
   ]
  },
  {
   "cell_type": "code",
   "execution_count": 26,
   "id": "1afe84f5-548f-4437-ae07-e240f10b4f31",
   "metadata": {},
   "outputs": [
    {
     "data": {
      "text/plain": [
       "tensor([[0.3400, 0.8049, 0.7360, 0.5542],\n",
       "        [0.0220, 0.6208, 0.7575, 0.9252],\n",
       "        [0.1766, 0.6195, 0.2240, 0.5277]])"
      ]
     },
     "execution_count": 26,
     "metadata": {},
     "output_type": "execute_result"
    }
   ],
   "source": [
    "a"
   ]
  },
  {
   "cell_type": "code",
   "execution_count": 27,
   "id": "267dd6cf-76c5-4932-b460-0e91d83d15b4",
   "metadata": {},
   "outputs": [
    {
     "data": {
      "text/plain": [
       "tensor([[0., 0., 0., 0.]])"
      ]
     },
     "execution_count": 27,
     "metadata": {},
     "output_type": "execute_result"
    }
   ],
   "source": [
    "b"
   ]
  },
  {
   "cell_type": "code",
   "execution_count": 28,
   "id": "00c21a94-83b4-45b0-929c-d679e77a9fca",
   "metadata": {},
   "outputs": [
    {
     "data": {
      "text/plain": [
       "tensor([[0.3400, 0.8049, 0.7360, 0.5542],\n",
       "        [0.0000, 0.0000, 0.0000, 0.0000],\n",
       "        [0.0220, 0.6208, 0.7575, 0.9252],\n",
       "        [0.1766, 0.6195, 0.2240, 0.5277]])"
      ]
     },
     "execution_count": 28,
     "metadata": {},
     "output_type": "execute_result"
    }
   ],
   "source": [
    "c"
   ]
  },
  {
   "cell_type": "code",
   "execution_count": 29,
   "id": "10f5483a-352c-4175-ae39-e3dcbd029173",
   "metadata": {},
   "outputs": [],
   "source": [
    "d = torch.cat([a[:idx], b], 0)"
   ]
  },
  {
   "cell_type": "code",
   "execution_count": 30,
   "id": "f297c6f7-8ea9-4cdf-82cd-e2d32e0ef4e6",
   "metadata": {},
   "outputs": [
    {
     "data": {
      "text/plain": [
       "tensor([[0.3400, 0.8049, 0.7360, 0.5542],\n",
       "        [0.0000, 0.0000, 0.0000, 0.0000]])"
      ]
     },
     "execution_count": 30,
     "metadata": {},
     "output_type": "execute_result"
    }
   ],
   "source": [
    "d"
   ]
  },
  {
   "cell_type": "code",
   "execution_count": 35,
   "id": "3a009ea6-893e-481d-926e-0997f5d59350",
   "metadata": {},
   "outputs": [],
   "source": [
    "e = torch.cat([a[0], torch.tensor([1])], 0)"
   ]
  },
  {
   "cell_type": "code",
   "execution_count": 32,
   "id": "fc35b8b3-d05f-4d64-9a96-31ee59c96bd3",
   "metadata": {},
   "outputs": [
    {
     "data": {
      "text/plain": [
       "torch.Size([4])"
      ]
     },
     "execution_count": 32,
     "metadata": {},
     "output_type": "execute_result"
    }
   ],
   "source": [
    "a[0].shape"
   ]
  },
  {
   "cell_type": "code",
   "execution_count": 33,
   "id": "0d9ed9b0-b81b-4737-8c06-e74d873a1382",
   "metadata": {},
   "outputs": [
    {
     "data": {
      "text/plain": [
       "torch.Size([1, 4])"
      ]
     },
     "execution_count": 33,
     "metadata": {},
     "output_type": "execute_result"
    }
   ],
   "source": [
    "b.shape"
   ]
  },
  {
   "cell_type": "code",
   "execution_count": 36,
   "id": "ff3e7505-f1bc-4a12-bf5f-e1c2c83c9c5a",
   "metadata": {},
   "outputs": [
    {
     "data": {
      "text/plain": [
       "tensor([0.3400, 0.8049, 0.7360, 0.5542, 1.0000])"
      ]
     },
     "execution_count": 36,
     "metadata": {},
     "output_type": "execute_result"
    }
   ],
   "source": [
    "e"
   ]
  },
  {
   "cell_type": "code",
   "execution_count": 37,
   "id": "b3b862ac-3dfc-4200-a69c-934a42813e2d",
   "metadata": {},
   "outputs": [
    {
     "data": {
      "text/plain": [
       "tensor([[0.3400, 0.8049, 0.7360, 0.5542],\n",
       "        [0.0220, 0.6208, 0.7575, 0.9252],\n",
       "        [0.1766, 0.6195, 0.2240, 0.5277]])"
      ]
     },
     "execution_count": 37,
     "metadata": {},
     "output_type": "execute_result"
    }
   ],
   "source": [
    "a"
   ]
  },
  {
   "cell_type": "code",
   "execution_count": 38,
   "id": "83fc3ffa-9188-4d1f-8fb5-ea8051199035",
   "metadata": {},
   "outputs": [],
   "source": [
    "source_dest_tensor = torch.tensor([[]]) "
   ]
  },
  {
   "cell_type": "code",
   "execution_count": 50,
   "id": "dc4626fc-5c1f-4027-bf0e-b82756dbf156",
   "metadata": {},
   "outputs": [],
   "source": [
    "f = torch.cat((a, torch.reshape(torch.tensor([1,2,3]), (3,1))), 1)"
   ]
  },
  {
   "cell_type": "code",
   "execution_count": 41,
   "id": "5c236179-b7f3-42c0-9d0f-b1421558515c",
   "metadata": {},
   "outputs": [
    {
     "data": {
      "text/plain": [
       "torch.Size([0, 4])"
      ]
     },
     "execution_count": 41,
     "metadata": {},
     "output_type": "execute_result"
    }
   ],
   "source": [
    "a[:0].shape"
   ]
  },
  {
   "cell_type": "code",
   "execution_count": 43,
   "id": "13f7d652-68cc-4ad0-9350-f35c780b3617",
   "metadata": {},
   "outputs": [
    {
     "data": {
      "text/plain": [
       "torch.Size([3, 4])"
      ]
     },
     "execution_count": 43,
     "metadata": {},
     "output_type": "execute_result"
    }
   ],
   "source": [
    "a[0:].shape"
   ]
  },
  {
   "cell_type": "code",
   "execution_count": 44,
   "id": "4c327a93-48f7-4e46-8a6d-170571663571",
   "metadata": {},
   "outputs": [
    {
     "data": {
      "text/plain": [
       "torch.Size([3, 4])"
      ]
     },
     "execution_count": 44,
     "metadata": {},
     "output_type": "execute_result"
    }
   ],
   "source": [
    "a.shape"
   ]
  },
  {
   "cell_type": "code",
   "execution_count": 52,
   "id": "05c7c59f-bbb0-44e3-9ebc-409437ca1a8f",
   "metadata": {},
   "outputs": [],
   "source": [
    "h = torch.tensor([])"
   ]
  },
  {
   "cell_type": "code",
   "execution_count": 55,
   "id": "1de71ebd-10ec-411e-9db6-642a6f832187",
   "metadata": {},
   "outputs": [],
   "source": [
    "h = torch.cat((h, torch.tensor([0])), 0)"
   ]
  },
  {
   "cell_type": "code",
   "execution_count": 56,
   "id": "1f8569d0-a33e-4181-b337-1021ae35656b",
   "metadata": {},
   "outputs": [
    {
     "data": {
      "text/plain": [
       "tensor([0.])"
      ]
     },
     "execution_count": 56,
     "metadata": {},
     "output_type": "execute_result"
    }
   ],
   "source": [
    "h"
   ]
  },
  {
   "cell_type": "code",
   "execution_count": 74,
   "id": "ca38deb0-3044-4b10-a6b0-94eae463bc76",
   "metadata": {},
   "outputs": [],
   "source": [
    "tensor_1 = torch.tensor([])\n",
    "tensor_2 = torch.ones(2,2)"
   ]
  },
  {
   "cell_type": "code",
   "execution_count": 78,
   "id": "f9cd1295-0f28-4280-b315-c865e13ffee6",
   "metadata": {},
   "outputs": [
    {
     "data": {
      "text/plain": [
       "0"
      ]
     },
     "execution_count": 78,
     "metadata": {},
     "output_type": "execute_result"
    }
   ],
   "source": [
    "stacked_source_dest_tensors = torch.tensor([[],[]])\n",
    "stacked_source_dest_tensors.numel()"
   ]
  },
  {
   "cell_type": "code",
   "execution_count": 86,
   "id": "34ca85ae-8f19-450a-897e-8716c8e3c94a",
   "metadata": {},
   "outputs": [
    {
     "data": {
      "text/plain": [
       "tensor([[1., 1.],\n",
       "        [1., 1.]])"
      ]
     },
     "execution_count": 86,
     "metadata": {},
     "output_type": "execute_result"
    }
   ],
   "source": [
    "tensor_2"
   ]
  },
  {
   "cell_type": "code",
   "execution_count": 89,
   "id": "f87e0228-ab65-4af3-8a64-1e65f5ee9c0a",
   "metadata": {},
   "outputs": [
    {
     "data": {
      "text/plain": [
       "tensor([[[1., 1.],\n",
       "         [1., 1.]]])"
      ]
     },
     "execution_count": 89,
     "metadata": {},
     "output_type": "execute_result"
    }
   ],
   "source": [
    "torch.unsqueeze(tensor_2, dim = 0)"
   ]
  },
  {
   "cell_type": "code",
   "execution_count": null,
   "id": "1dad8891-cc18-4ca9-8287-19fd5cee9177",
   "metadata": {},
   "outputs": [],
   "source": []
  }
 ],
 "metadata": {
  "kernelspec": {
   "display_name": "Python 3 (ipykernel)",
   "language": "python",
   "name": "python3"
  },
  "language_info": {
   "codemirror_mode": {
    "name": "ipython",
    "version": 3
   },
   "file_extension": ".py",
   "mimetype": "text/x-python",
   "name": "python",
   "nbconvert_exporter": "python",
   "pygments_lexer": "ipython3",
   "version": "3.8.12"
  }
 },
 "nbformat": 4,
 "nbformat_minor": 5
}
