{
 "cells": [
  {
   "cell_type": "code",
   "execution_count": 1,
   "id": "694c9833-3401-45fc-a31f-ed4c12355e69",
   "metadata": {},
   "outputs": [],
   "source": [
    "import torch"
   ]
  },
  {
   "cell_type": "code",
   "execution_count": 2,
   "id": "d37f3142-68f3-4e42-b5f2-d8cbc6b9b804",
   "metadata": {},
   "outputs": [],
   "source": [
    "random_matrix = torch.rand(3, 5, 2, 5)"
   ]
  },
  {
   "cell_type": "code",
   "execution_count": 3,
   "id": "49c356d9-a62b-4e08-be74-d297b80a13f1",
   "metadata": {},
   "outputs": [
    {
     "data": {
      "text/plain": [
       "torch.Size([3, 5, 2, 5])"
      ]
     },
     "execution_count": 3,
     "metadata": {},
     "output_type": "execute_result"
    }
   ],
   "source": [
    "random_matrix.shape"
   ]
  },
  {
   "cell_type": "code",
   "execution_count": 4,
   "id": "3f633660-9b17-4213-bb18-0b187e40f50d",
   "metadata": {},
   "outputs": [],
   "source": [
    "random_embedding_matrix = torch.rand(3, 5, 7)"
   ]
  },
  {
   "cell_type": "code",
   "execution_count": 5,
   "id": "961777f3-0d78-487e-8383-febbaed16ce8",
   "metadata": {},
   "outputs": [
    {
     "data": {
      "text/plain": [
       "torch.Size([3, 5, 7])"
      ]
     },
     "execution_count": 5,
     "metadata": {},
     "output_type": "execute_result"
    }
   ],
   "source": [
    "random_embedding_matrix.shape"
   ]
  },
  {
   "cell_type": "code",
   "execution_count": 6,
   "id": "87035db6-7dc0-4fc0-bdf0-b87fd67696fc",
   "metadata": {},
   "outputs": [
    {
     "data": {
      "text/plain": [
       "tensor([[[[0.0381, 0.8782, 0.8832, 0.7978, 0.2089],\n",
       "          [0.3233, 0.7316, 0.7138, 0.3971, 0.1738]],\n",
       "\n",
       "         [[0.5440, 0.8260, 0.7823, 0.9800, 0.9562],\n",
       "          [0.1239, 0.3242, 0.2252, 0.4237, 0.7654]],\n",
       "\n",
       "         [[0.8499, 0.3327, 0.0118, 0.7089, 0.8089],\n",
       "          [0.5654, 0.1973, 0.9888, 0.5369, 0.0850]],\n",
       "\n",
       "         [[0.5126, 0.8939, 0.7321, 0.4030, 0.4272],\n",
       "          [0.4208, 0.6605, 0.5313, 0.9849, 0.7126]],\n",
       "\n",
       "         [[0.5359, 0.5185, 0.2447, 0.6827, 0.7059],\n",
       "          [0.4458, 0.7289, 0.8350, 0.0215, 0.7139]]],\n",
       "\n",
       "\n",
       "        [[[0.1682, 0.9578, 0.7083, 0.3715, 0.0711],\n",
       "          [0.3854, 0.5934, 0.8010, 0.7267, 0.2363]],\n",
       "\n",
       "         [[0.9603, 0.7342, 0.8348, 0.7488, 0.6034],\n",
       "          [0.8667, 0.3704, 0.1155, 0.7565, 0.4960]],\n",
       "\n",
       "         [[0.0656, 0.2043, 0.5913, 0.6750, 0.3389],\n",
       "          [0.5847, 0.7734, 0.0924, 0.7171, 0.1039]],\n",
       "\n",
       "         [[0.9560, 0.4464, 0.7397, 0.9178, 0.0741],\n",
       "          [0.7313, 0.5099, 0.5910, 0.6290, 0.7659]],\n",
       "\n",
       "         [[0.9289, 0.7673, 0.2946, 0.0104, 0.3965],\n",
       "          [0.6538, 0.7469, 0.3869, 0.8200, 0.6252]]],\n",
       "\n",
       "\n",
       "        [[[0.5386, 0.8182, 0.6886, 0.8527, 0.6617],\n",
       "          [0.0828, 0.8397, 0.4159, 0.7433, 0.6019]],\n",
       "\n",
       "         [[0.7832, 0.9540, 0.4291, 0.3943, 0.6664],\n",
       "          [0.8786, 0.3613, 0.0037, 0.4024, 0.1889]],\n",
       "\n",
       "         [[0.0233, 0.3638, 0.7893, 0.2909, 0.9730],\n",
       "          [0.7650, 0.3753, 0.0387, 0.7734, 0.7198]],\n",
       "\n",
       "         [[0.0926, 0.9776, 0.1708, 0.7169, 0.5361],\n",
       "          [0.5877, 0.6076, 0.5029, 0.9594, 0.2743]],\n",
       "\n",
       "         [[0.2051, 0.3055, 0.7365, 0.2027, 0.0155],\n",
       "          [0.5321, 0.8664, 0.1357, 0.0796, 0.5380]]]])"
      ]
     },
     "execution_count": 6,
     "metadata": {},
     "output_type": "execute_result"
    }
   ],
   "source": [
    "random_matrix"
   ]
  },
  {
   "cell_type": "code",
   "execution_count": 7,
   "id": "c65daebc-f5ec-4cfe-85e6-918239a05ee9",
   "metadata": {},
   "outputs": [],
   "source": [
    "random_matrix_sample = torch.rand(4, 2, 3, 2)"
   ]
  },
  {
   "cell_type": "code",
   "execution_count": 8,
   "id": "5e26e6ae-a422-4ac2-82df-5e5c810cb0c2",
   "metadata": {},
   "outputs": [
    {
     "data": {
      "text/plain": [
       "torch.Size([4, 2, 3, 2])"
      ]
     },
     "execution_count": 8,
     "metadata": {},
     "output_type": "execute_result"
    }
   ],
   "source": [
    "random_matrix_sample.shape"
   ]
  },
  {
   "cell_type": "code",
   "execution_count": 9,
   "id": "507c2dea-e323-4401-acdc-1920abe5c7fc",
   "metadata": {},
   "outputs": [
    {
     "data": {
      "text/plain": [
       "tensor([[[[0.7392, 0.7254],\n",
       "          [0.7160, 0.2459],\n",
       "          [0.4531, 0.9429]],\n",
       "\n",
       "         [[0.1307, 0.7146],\n",
       "          [0.7067, 0.6683],\n",
       "          [0.1177, 0.5000]]],\n",
       "\n",
       "\n",
       "        [[[0.1743, 0.9003],\n",
       "          [0.9295, 0.3163],\n",
       "          [0.4281, 0.3725]],\n",
       "\n",
       "         [[0.2027, 0.6532],\n",
       "          [0.6405, 0.8453],\n",
       "          [0.7648, 0.6304]]],\n",
       "\n",
       "\n",
       "        [[[0.7170, 0.9537],\n",
       "          [0.2466, 0.0392],\n",
       "          [0.0140, 0.5226]],\n",
       "\n",
       "         [[0.0495, 0.6922],\n",
       "          [0.7226, 0.5604],\n",
       "          [0.5355, 0.3271]]],\n",
       "\n",
       "\n",
       "        [[[0.4802, 0.2988],\n",
       "          [0.2134, 0.2874],\n",
       "          [0.2702, 0.2094]],\n",
       "\n",
       "         [[0.2990, 0.9068],\n",
       "          [0.9665, 0.0566],\n",
       "          [0.6660, 0.2179]]]])"
      ]
     },
     "execution_count": 9,
     "metadata": {},
     "output_type": "execute_result"
    }
   ],
   "source": [
    "random_matrix_sample"
   ]
  },
  {
   "cell_type": "code",
   "execution_count": 11,
   "id": "9cfc7770-3138-4a27-b5cd-b28137af1407",
   "metadata": {},
   "outputs": [],
   "source": [
    "from torch_geometric import nn"
   ]
  },
  {
   "cell_type": "code",
   "execution_count": 12,
   "id": "b9dd52a3-c175-4b2a-972a-75b1a7c29070",
   "metadata": {},
   "outputs": [],
   "source": [
    "input_features = 7\n",
    "output_features = 3\n",
    "gcn_conv1 = nn.GCNConv(input_features, output_features)"
   ]
  },
  {
   "cell_type": "code",
   "execution_count": 13,
   "id": "cb4a468e-552f-4134-b5a5-2da8b4a699dd",
   "metadata": {},
   "outputs": [
    {
     "data": {
      "text/plain": [
       "GCNConv(7, 3)"
      ]
     },
     "execution_count": 13,
     "metadata": {},
     "output_type": "execute_result"
    }
   ],
   "source": [
    "gcn_conv1"
   ]
  },
  {
   "cell_type": "code",
   "execution_count": 14,
   "id": "9f6438ab-09aa-431b-867f-415a3897af27",
   "metadata": {},
   "outputs": [
    {
     "name": "stdout",
     "output_type": "stream",
     "text": [
      "tensor([[[0.7392, 0.7254],\n",
      "         [0.7160, 0.2459],\n",
      "         [0.4531, 0.9429]],\n",
      "\n",
      "        [[0.1307, 0.7146],\n",
      "         [0.7067, 0.6683],\n",
      "         [0.1177, 0.5000]]])\n",
      "tensor([[[0.1743, 0.9003],\n",
      "         [0.9295, 0.3163],\n",
      "         [0.4281, 0.3725]],\n",
      "\n",
      "        [[0.2027, 0.6532],\n",
      "         [0.6405, 0.8453],\n",
      "         [0.7648, 0.6304]]])\n",
      "tensor([[[0.7170, 0.9537],\n",
      "         [0.2466, 0.0392],\n",
      "         [0.0140, 0.5226]],\n",
      "\n",
      "        [[0.0495, 0.6922],\n",
      "         [0.7226, 0.5604],\n",
      "         [0.5355, 0.3271]]])\n",
      "tensor([[[0.4802, 0.2988],\n",
      "         [0.2134, 0.2874],\n",
      "         [0.2702, 0.2094]],\n",
      "\n",
      "        [[0.2990, 0.9068],\n",
      "         [0.9665, 0.0566],\n",
      "         [0.6660, 0.2179]]])\n"
     ]
    }
   ],
   "source": [
    "for r_m in random_matrix_sample:\n",
    "    print(r_m)"
   ]
  },
  {
   "cell_type": "code",
   "execution_count": 15,
   "id": "e2e81ff9-95b6-4485-a3e0-bd26a73a8943",
   "metadata": {},
   "outputs": [
    {
     "data": {
      "text/plain": [
       "torch.Size([2, 3, 2])"
      ]
     },
     "execution_count": 15,
     "metadata": {},
     "output_type": "execute_result"
    }
   ],
   "source": [
    "random_matrix_sample[0].shape"
   ]
  },
  {
   "cell_type": "code",
   "execution_count": 16,
   "id": "8bfabb1a-195b-4849-bc8e-f69fdfb89e29",
   "metadata": {},
   "outputs": [],
   "source": [
    "random_matrix_sample_axis_swapped = torch.swapaxes(random_matrix_sample, -1, -2)"
   ]
  },
  {
   "cell_type": "code",
   "execution_count": 17,
   "id": "0663b33a-01e1-4ab4-b780-bc981ccd1a35",
   "metadata": {},
   "outputs": [
    {
     "data": {
      "text/plain": [
       "tensor([[[[0.7392, 0.7160, 0.4531],\n",
       "          [0.7254, 0.2459, 0.9429]],\n",
       "\n",
       "         [[0.1307, 0.7067, 0.1177],\n",
       "          [0.7146, 0.6683, 0.5000]]],\n",
       "\n",
       "\n",
       "        [[[0.1743, 0.9295, 0.4281],\n",
       "          [0.9003, 0.3163, 0.3725]],\n",
       "\n",
       "         [[0.2027, 0.6405, 0.7648],\n",
       "          [0.6532, 0.8453, 0.6304]]],\n",
       "\n",
       "\n",
       "        [[[0.7170, 0.2466, 0.0140],\n",
       "          [0.9537, 0.0392, 0.5226]],\n",
       "\n",
       "         [[0.0495, 0.7226, 0.5355],\n",
       "          [0.6922, 0.5604, 0.3271]]],\n",
       "\n",
       "\n",
       "        [[[0.4802, 0.2134, 0.2702],\n",
       "          [0.2988, 0.2874, 0.2094]],\n",
       "\n",
       "         [[0.2990, 0.9665, 0.6660],\n",
       "          [0.9068, 0.0566, 0.2179]]]])"
      ]
     },
     "execution_count": 17,
     "metadata": {},
     "output_type": "execute_result"
    }
   ],
   "source": [
    "random_matrix_sample_axis_swapped"
   ]
  },
  {
   "cell_type": "code",
   "execution_count": 18,
   "id": "e4e52d7c-d179-4efd-9872-9633ec874a7d",
   "metadata": {},
   "outputs": [
    {
     "data": {
      "text/plain": [
       "torch.Size([4, 2, 2, 3])"
      ]
     },
     "execution_count": 18,
     "metadata": {},
     "output_type": "execute_result"
    }
   ],
   "source": [
    "random_matrix_sample_axis_swapped.shape"
   ]
  },
  {
   "cell_type": "code",
   "execution_count": 21,
   "id": "a041fd6a-1762-43b2-9f8f-caef865a0c86",
   "metadata": {},
   "outputs": [
    {
     "name": "stdout",
     "output_type": "stream",
     "text": [
      "tensor([[0.7392, 0.7160, 0.4531],\n",
      "        [0.7254, 0.2459, 0.9429]]) 2\n",
      "tensor([[[[0.1743, 0.9295, 0.4281],\n",
      "          [0.9003, 0.3163, 0.3725]],\n",
      "\n",
      "         [[0.2027, 0.6405, 0.7648],\n",
      "          [0.6532, 0.8453, 0.6304]]],\n",
      "\n",
      "\n",
      "        [[[0.7170, 0.2466, 0.0140],\n",
      "          [0.9537, 0.0392, 0.5226]],\n",
      "\n",
      "         [[0.0495, 0.7226, 0.5355],\n",
      "          [0.6922, 0.5604, 0.3271]]],\n",
      "\n",
      "\n",
      "        [[[0.4802, 0.2134, 0.2702],\n",
      "          [0.2988, 0.2874, 0.2094]],\n",
      "\n",
      "         [[0.2990, 0.9665, 0.6660],\n",
      "          [0.9068, 0.0566, 0.2179]]]])\n",
      "tensor([[0.1307, 0.7067, 0.1177],\n",
      "        [0.7146, 0.6683, 0.5000]]) 2\n",
      "tensor([[[[0.7170, 0.2466, 0.0140],\n",
      "          [0.9537, 0.0392, 0.5226]],\n",
      "\n",
      "         [[0.0495, 0.7226, 0.5355],\n",
      "          [0.6922, 0.5604, 0.3271]]],\n",
      "\n",
      "\n",
      "        [[[0.4802, 0.2134, 0.2702],\n",
      "          [0.2988, 0.2874, 0.2094]],\n",
      "\n",
      "         [[0.2990, 0.9665, 0.6660],\n",
      "          [0.9068, 0.0566, 0.2179]]]])\n",
      "tensor([[0.1743, 0.9295, 0.4281],\n",
      "        [0.9003, 0.3163, 0.3725]]) 2\n",
      "tensor([[[[0.1743, 0.9295, 0.4281],\n",
      "          [0.9003, 0.3163, 0.3725]],\n",
      "\n",
      "         [[0.2027, 0.6405, 0.7648],\n",
      "          [0.6532, 0.8453, 0.6304]]],\n",
      "\n",
      "\n",
      "        [[[0.7170, 0.2466, 0.0140],\n",
      "          [0.9537, 0.0392, 0.5226]],\n",
      "\n",
      "         [[0.0495, 0.7226, 0.5355],\n",
      "          [0.6922, 0.5604, 0.3271]]],\n",
      "\n",
      "\n",
      "        [[[0.4802, 0.2134, 0.2702],\n",
      "          [0.2988, 0.2874, 0.2094]],\n",
      "\n",
      "         [[0.2990, 0.9665, 0.6660],\n",
      "          [0.9068, 0.0566, 0.2179]]]])\n",
      "tensor([[0.2027, 0.6405, 0.7648],\n",
      "        [0.6532, 0.8453, 0.6304]]) 2\n",
      "tensor([[[[0.7170, 0.2466, 0.0140],\n",
      "          [0.9537, 0.0392, 0.5226]],\n",
      "\n",
      "         [[0.0495, 0.7226, 0.5355],\n",
      "          [0.6922, 0.5604, 0.3271]]],\n",
      "\n",
      "\n",
      "        [[[0.4802, 0.2134, 0.2702],\n",
      "          [0.2988, 0.2874, 0.2094]],\n",
      "\n",
      "         [[0.2990, 0.9665, 0.6660],\n",
      "          [0.9068, 0.0566, 0.2179]]]])\n",
      "tensor([[0.7170, 0.2466, 0.0140],\n",
      "        [0.9537, 0.0392, 0.5226]]) 2\n",
      "tensor([[[[0.1743, 0.9295, 0.4281],\n",
      "          [0.9003, 0.3163, 0.3725]],\n",
      "\n",
      "         [[0.2027, 0.6405, 0.7648],\n",
      "          [0.6532, 0.8453, 0.6304]]],\n",
      "\n",
      "\n",
      "        [[[0.7170, 0.2466, 0.0140],\n",
      "          [0.9537, 0.0392, 0.5226]],\n",
      "\n",
      "         [[0.0495, 0.7226, 0.5355],\n",
      "          [0.6922, 0.5604, 0.3271]]],\n",
      "\n",
      "\n",
      "        [[[0.4802, 0.2134, 0.2702],\n",
      "          [0.2988, 0.2874, 0.2094]],\n",
      "\n",
      "         [[0.2990, 0.9665, 0.6660],\n",
      "          [0.9068, 0.0566, 0.2179]]]])\n",
      "tensor([[0.0495, 0.7226, 0.5355],\n",
      "        [0.6922, 0.5604, 0.3271]]) 2\n",
      "tensor([[[[0.7170, 0.2466, 0.0140],\n",
      "          [0.9537, 0.0392, 0.5226]],\n",
      "\n",
      "         [[0.0495, 0.7226, 0.5355],\n",
      "          [0.6922, 0.5604, 0.3271]]],\n",
      "\n",
      "\n",
      "        [[[0.4802, 0.2134, 0.2702],\n",
      "          [0.2988, 0.2874, 0.2094]],\n",
      "\n",
      "         [[0.2990, 0.9665, 0.6660],\n",
      "          [0.9068, 0.0566, 0.2179]]]])\n",
      "tensor([[0.4802, 0.2134, 0.2702],\n",
      "        [0.2988, 0.2874, 0.2094]]) 2\n",
      "tensor([[[[0.1743, 0.9295, 0.4281],\n",
      "          [0.9003, 0.3163, 0.3725]],\n",
      "\n",
      "         [[0.2027, 0.6405, 0.7648],\n",
      "          [0.6532, 0.8453, 0.6304]]],\n",
      "\n",
      "\n",
      "        [[[0.7170, 0.2466, 0.0140],\n",
      "          [0.9537, 0.0392, 0.5226]],\n",
      "\n",
      "         [[0.0495, 0.7226, 0.5355],\n",
      "          [0.6922, 0.5604, 0.3271]]],\n",
      "\n",
      "\n",
      "        [[[0.4802, 0.2134, 0.2702],\n",
      "          [0.2988, 0.2874, 0.2094]],\n",
      "\n",
      "         [[0.2990, 0.9665, 0.6660],\n",
      "          [0.9068, 0.0566, 0.2179]]]])\n",
      "tensor([[0.2990, 0.9665, 0.6660],\n",
      "        [0.9068, 0.0566, 0.2179]]) 2\n",
      "tensor([[[[0.7170, 0.2466, 0.0140],\n",
      "          [0.9537, 0.0392, 0.5226]],\n",
      "\n",
      "         [[0.0495, 0.7226, 0.5355],\n",
      "          [0.6922, 0.5604, 0.3271]]],\n",
      "\n",
      "\n",
      "        [[[0.4802, 0.2134, 0.2702],\n",
      "          [0.2988, 0.2874, 0.2094]],\n",
      "\n",
      "         [[0.2990, 0.9665, 0.6660],\n",
      "          [0.9068, 0.0566, 0.2179]]]])\n"
     ]
    }
   ],
   "source": [
    "for r_m in range(len(random_matrix_sample_axis_swapped)):\n",
    "    source_list = []\n",
    "    destination_list = []\n",
    "    for source in range(len(random_matrix_sample_axis_swapped[r_m])):\n",
    "        print(random_matrix_sample_axis_swapped[r_m][source], len(random_matrix_sample_axis_swapped[r_m][source]))\n",
    "        destination = random_matrix_sample_axis_swapped[r_m][source][:source] + random_matrix_sample_axis_swapped[source + 1:]\n",
    "        print(destination)\n",
    "        "
   ]
  },
  {
   "cell_type": "code",
   "execution_count": 25,
   "id": "7d865d19-7e49-4e50-9c90-24c2558733fe",
   "metadata": {},
   "outputs": [
    {
     "ename": "TypeError",
     "evalue": "cat() received an invalid combination of arguments - got (Tensor, Tensor), but expected one of:\n * (tuple of Tensors tensors, int dim, *, Tensor out)\n * (tuple of Tensors tensors, name dim, *, Tensor out)\n",
     "output_type": "error",
     "traceback": [
      "\u001b[0;31m---------------------------------------------------------------------------\u001b[0m",
      "\u001b[0;31mTypeError\u001b[0m                                 Traceback (most recent call last)",
      "\u001b[0;32m/tmp/ipykernel_58353/485693516.py\u001b[0m in \u001b[0;36m<module>\u001b[0;34m\u001b[0m\n\u001b[0;32m----> 1\u001b[0;31m \u001b[0mtorch\u001b[0m\u001b[0;34m.\u001b[0m\u001b[0mcat\u001b[0m\u001b[0;34m(\u001b[0m\u001b[0mrandom_matrix_sample_axis_swapped\u001b[0m\u001b[0;34m[\u001b[0m\u001b[0;36m0\u001b[0m\u001b[0;34m]\u001b[0m\u001b[0;34m[\u001b[0m\u001b[0;36m0\u001b[0m\u001b[0;34m]\u001b[0m\u001b[0;34m[\u001b[0m\u001b[0;34m:\u001b[0m\u001b[0;36m0\u001b[0m\u001b[0;34m]\u001b[0m \u001b[0;34m,\u001b[0m\u001b[0mrandom_matrix_sample_axis_swapped\u001b[0m\u001b[0;34m[\u001b[0m\u001b[0;36m0\u001b[0m\u001b[0;34m]\u001b[0m\u001b[0;34m[\u001b[0m\u001b[0;36m0\u001b[0m\u001b[0;34m]\u001b[0m\u001b[0;34m[\u001b[0m\u001b[0;36m1\u001b[0m\u001b[0;34m:\u001b[0m\u001b[0;34m]\u001b[0m\u001b[0;34m)\u001b[0m\u001b[0;34m\u001b[0m\u001b[0;34m\u001b[0m\u001b[0m\n\u001b[0m",
      "\u001b[0;31mTypeError\u001b[0m: cat() received an invalid combination of arguments - got (Tensor, Tensor), but expected one of:\n * (tuple of Tensors tensors, int dim, *, Tensor out)\n * (tuple of Tensors tensors, name dim, *, Tensor out)\n"
     ]
    }
   ],
   "source": [
    "torch.cat(random_matrix_sample_axis_swapped[0][0][:0] ,random_matrix_sample_axis_swapped[0][0][1:])"
   ]
  },
  {
   "cell_type": "code",
   "execution_count": null,
   "id": "1e93381f-9a2d-4e7a-a38d-b541c7c34d8a",
   "metadata": {},
   "outputs": [],
   "source": []
  }
 ],
 "metadata": {
  "kernelspec": {
   "display_name": "Python 3 (ipykernel)",
   "language": "python",
   "name": "python3"
  },
  "language_info": {
   "codemirror_mode": {
    "name": "ipython",
    "version": 3
   },
   "file_extension": ".py",
   "mimetype": "text/x-python",
   "name": "python",
   "nbconvert_exporter": "python",
   "pygments_lexer": "ipython3",
   "version": "3.8.12"
  }
 },
 "nbformat": 4,
 "nbformat_minor": 5
}
